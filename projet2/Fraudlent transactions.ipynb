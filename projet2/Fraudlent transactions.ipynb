{
 "cells": [
  {
   "cell_type": "markdown",
   "id": "5d331bf2",
   "metadata": {},
   "source": [
    "# Fraudlent transactions"
   ]
  },
  {
   "cell_type": "code",
   "execution_count": 1,
   "id": "08f69c77",
   "metadata": {},
   "outputs": [],
   "source": [
    "import pandas as pd\n",
    "import numpy as np\n",
    "import matplotlib.pyplot as plt\n",
    "%matplotlib inline\n",
    "import seaborn as sns"
   ]
  },
  {
   "cell_type": "code",
   "execution_count": 2,
   "id": "e2733cad",
   "metadata": {},
   "outputs": [],
   "source": [
    "# Reading data into a DataFrame\n",
    "df=pd.read_csv('synth_composite.csv')"
   ]
  },
  {
   "cell_type": "code",
   "execution_count": 3,
   "id": "942c7114",
   "metadata": {},
   "outputs": [
    {
     "data": {
      "text/html": [
       "<div>\n",
       "<style scoped>\n",
       "    .dataframe tbody tr th:only-of-type {\n",
       "        vertical-align: middle;\n",
       "    }\n",
       "\n",
       "    .dataframe tbody tr th {\n",
       "        vertical-align: top;\n",
       "    }\n",
       "\n",
       "    .dataframe thead th {\n",
       "        text-align: right;\n",
       "    }\n",
       "</style>\n",
       "<table border=\"1\" class=\"dataframe\">\n",
       "  <thead>\n",
       "    <tr style=\"text-align: right;\">\n",
       "      <th></th>\n",
       "      <th>step</th>\n",
       "      <th>type</th>\n",
       "      <th>amount</th>\n",
       "      <th>nameOrig</th>\n",
       "      <th>oldbalanceOrg</th>\n",
       "      <th>newbalanceOrig</th>\n",
       "      <th>nameDest</th>\n",
       "      <th>oldbalanceDest</th>\n",
       "      <th>newbalanceDest</th>\n",
       "      <th>isFraud</th>\n",
       "      <th>isFlaggedFraud</th>\n",
       "    </tr>\n",
       "  </thead>\n",
       "  <tbody>\n",
       "    <tr>\n",
       "      <th>0</th>\n",
       "      <td>211</td>\n",
       "      <td>CASH_OUT</td>\n",
       "      <td>184185.755277</td>\n",
       "      <td>160_2696646_0</td>\n",
       "      <td>203108.476051</td>\n",
       "      <td>18922.720773</td>\n",
       "      <td>160_901564_0</td>\n",
       "      <td>1.019994e+06</td>\n",
       "      <td>1.204127e+06</td>\n",
       "      <td>0</td>\n",
       "      <td>0</td>\n",
       "    </tr>\n",
       "    <tr>\n",
       "      <th>1</th>\n",
       "      <td>394</td>\n",
       "      <td>CASH_OUT</td>\n",
       "      <td>237093.196009</td>\n",
       "      <td>160_5585569_0</td>\n",
       "      <td>382707.464238</td>\n",
       "      <td>145614.268230</td>\n",
       "      <td>160_1586945_0</td>\n",
       "      <td>5.870893e+05</td>\n",
       "      <td>8.243203e+05</td>\n",
       "      <td>0</td>\n",
       "      <td>0</td>\n",
       "    </tr>\n",
       "    <tr>\n",
       "      <th>2</th>\n",
       "      <td>306</td>\n",
       "      <td>CASH_IN</td>\n",
       "      <td>163600.518794</td>\n",
       "      <td>160_4221372_0</td>\n",
       "      <td>3093.431169</td>\n",
       "      <td>0.000000</td>\n",
       "      <td>160_1701821_0</td>\n",
       "      <td>6.534538e+05</td>\n",
       "      <td>4.901219e+05</td>\n",
       "      <td>0</td>\n",
       "      <td>0</td>\n",
       "    </tr>\n",
       "    <tr>\n",
       "      <th>3</th>\n",
       "      <td>235</td>\n",
       "      <td>PAYMENT</td>\n",
       "      <td>7625.866018</td>\n",
       "      <td>160_3064357_0</td>\n",
       "      <td>74630.853812</td>\n",
       "      <td>67004.987793</td>\n",
       "      <td>160_1304279_0</td>\n",
       "      <td>1.666019e+01</td>\n",
       "      <td>1.362096e+01</td>\n",
       "      <td>0</td>\n",
       "      <td>0</td>\n",
       "    </tr>\n",
       "  </tbody>\n",
       "</table>\n",
       "</div>"
      ],
      "text/plain": [
       "   step      type         amount       nameOrig  oldbalanceOrg  \\\n",
       "0   211  CASH_OUT  184185.755277  160_2696646_0  203108.476051   \n",
       "1   394  CASH_OUT  237093.196009  160_5585569_0  382707.464238   \n",
       "2   306   CASH_IN  163600.518794  160_4221372_0    3093.431169   \n",
       "3   235   PAYMENT    7625.866018  160_3064357_0   74630.853812   \n",
       "\n",
       "   newbalanceOrig       nameDest  oldbalanceDest  newbalanceDest  isFraud  \\\n",
       "0    18922.720773   160_901564_0    1.019994e+06    1.204127e+06        0   \n",
       "1   145614.268230  160_1586945_0    5.870893e+05    8.243203e+05        0   \n",
       "2        0.000000  160_1701821_0    6.534538e+05    4.901219e+05        0   \n",
       "3    67004.987793  160_1304279_0    1.666019e+01    1.362096e+01        0   \n",
       "\n",
       "   isFlaggedFraud  \n",
       "0               0  \n",
       "1               0  \n",
       "2               0  \n",
       "3               0  "
      ]
     },
     "execution_count": 3,
     "metadata": {},
     "output_type": "execute_result"
    }
   ],
   "source": [
    "df.head(4)"
   ]
  },
  {
   "cell_type": "code",
   "execution_count": 39,
   "id": "a5667321",
   "metadata": {},
   "outputs": [
    {
     "data": {
      "text/html": [
       "<div>\n",
       "<style scoped>\n",
       "    .dataframe tbody tr th:only-of-type {\n",
       "        vertical-align: middle;\n",
       "    }\n",
       "\n",
       "    .dataframe tbody tr th {\n",
       "        vertical-align: top;\n",
       "    }\n",
       "\n",
       "    .dataframe thead th {\n",
       "        text-align: right;\n",
       "    }\n",
       "</style>\n",
       "<table border=\"1\" class=\"dataframe\">\n",
       "  <thead>\n",
       "    <tr style=\"text-align: right;\">\n",
       "      <th></th>\n",
       "      <th>step</th>\n",
       "      <th>type</th>\n",
       "      <th>amount</th>\n",
       "      <th>nameOrig</th>\n",
       "      <th>oldbalanceOrg</th>\n",
       "      <th>newbalanceOrig</th>\n",
       "      <th>nameDest</th>\n",
       "      <th>oldbalanceDest</th>\n",
       "      <th>newbalanceDest</th>\n",
       "      <th>isFraud</th>\n",
       "      <th>isFlaggedFraud</th>\n",
       "    </tr>\n",
       "  </thead>\n",
       "  <tbody>\n",
       "    <tr>\n",
       "      <th>6354407</th>\n",
       "      <td>741</td>\n",
       "      <td>CASH_OUT</td>\n",
       "      <td>2.00</td>\n",
       "      <td>161_8178_0</td>\n",
       "      <td>-71.00</td>\n",
       "      <td>-73.0</td>\n",
       "      <td>161_8134_0</td>\n",
       "      <td>2.700696e+05</td>\n",
       "      <td>2.702828e+05</td>\n",
       "      <td>1</td>\n",
       "      <td>0</td>\n",
       "    </tr>\n",
       "    <tr>\n",
       "      <th>6354408</th>\n",
       "      <td>212</td>\n",
       "      <td>CASH_OUT</td>\n",
       "      <td>362998.52</td>\n",
       "      <td>161_2386_0</td>\n",
       "      <td>363050.52</td>\n",
       "      <td>52.0</td>\n",
       "      <td>161_2374_0</td>\n",
       "      <td>2.159733e+06</td>\n",
       "      <td>2.523959e+06</td>\n",
       "      <td>1</td>\n",
       "      <td>0</td>\n",
       "    </tr>\n",
       "    <tr>\n",
       "      <th>6354409</th>\n",
       "      <td>568</td>\n",
       "      <td>CASH_OUT</td>\n",
       "      <td>66187.66</td>\n",
       "      <td>161_6282_0</td>\n",
       "      <td>66125.66</td>\n",
       "      <td>-62.0</td>\n",
       "      <td>161_6251_0</td>\n",
       "      <td>7.177089e+05</td>\n",
       "      <td>7.832872e+05</td>\n",
       "      <td>1</td>\n",
       "      <td>0</td>\n",
       "    </tr>\n",
       "    <tr>\n",
       "      <th>6354410</th>\n",
       "      <td>15</td>\n",
       "      <td>CASH_OUT</td>\n",
       "      <td>696771.08</td>\n",
       "      <td>161_168_0</td>\n",
       "      <td>696771.08</td>\n",
       "      <td>0.0</td>\n",
       "      <td>161_167_0</td>\n",
       "      <td>3.688858e+05</td>\n",
       "      <td>1.351356e+06</td>\n",
       "      <td>1</td>\n",
       "      <td>0</td>\n",
       "    </tr>\n",
       "    <tr>\n",
       "      <th>6354411</th>\n",
       "      <td>501</td>\n",
       "      <td>CASH_OUT</td>\n",
       "      <td>73332.47</td>\n",
       "      <td>161_5584_0</td>\n",
       "      <td>73285.47</td>\n",
       "      <td>-47.0</td>\n",
       "      <td>161_5556_0</td>\n",
       "      <td>1.253682e+05</td>\n",
       "      <td>1.923281e+05</td>\n",
       "      <td>1</td>\n",
       "      <td>0</td>\n",
       "    </tr>\n",
       "    <tr>\n",
       "      <th>...</th>\n",
       "      <td>...</td>\n",
       "      <td>...</td>\n",
       "      <td>...</td>\n",
       "      <td>...</td>\n",
       "      <td>...</td>\n",
       "      <td>...</td>\n",
       "      <td>...</td>\n",
       "      <td>...</td>\n",
       "      <td>...</td>\n",
       "      <td>...</td>\n",
       "      <td>...</td>\n",
       "    </tr>\n",
       "    <tr>\n",
       "      <th>6362615</th>\n",
       "      <td>483</td>\n",
       "      <td>CASH_OUT</td>\n",
       "      <td>22982.73</td>\n",
       "      <td>161_5384_0</td>\n",
       "      <td>22981.73</td>\n",
       "      <td>-1.0</td>\n",
       "      <td>161_5356_0</td>\n",
       "      <td>3.279893e+06</td>\n",
       "      <td>3.304007e+06</td>\n",
       "      <td>1</td>\n",
       "      <td>0</td>\n",
       "    </tr>\n",
       "    <tr>\n",
       "      <th>6362616</th>\n",
       "      <td>214</td>\n",
       "      <td>CASH_OUT</td>\n",
       "      <td>1368390.50</td>\n",
       "      <td>161_2420_0</td>\n",
       "      <td>1368453.50</td>\n",
       "      <td>63.0</td>\n",
       "      <td>161_2408_0</td>\n",
       "      <td>2.589394e+05</td>\n",
       "      <td>1.624944e+06</td>\n",
       "      <td>1</td>\n",
       "      <td>0</td>\n",
       "    </tr>\n",
       "    <tr>\n",
       "      <th>6362617</th>\n",
       "      <td>679</td>\n",
       "      <td>CASH_OUT</td>\n",
       "      <td>3150440.28</td>\n",
       "      <td>161_7476_0</td>\n",
       "      <td>3150454.28</td>\n",
       "      <td>14.0</td>\n",
       "      <td>161_7437_0</td>\n",
       "      <td>6.372507e+03</td>\n",
       "      <td>3.157667e+06</td>\n",
       "      <td>1</td>\n",
       "      <td>0</td>\n",
       "    </tr>\n",
       "    <tr>\n",
       "      <th>6362618</th>\n",
       "      <td>482</td>\n",
       "      <td>CASH_OUT</td>\n",
       "      <td>75655.33</td>\n",
       "      <td>161_5366_0</td>\n",
       "      <td>75647.33</td>\n",
       "      <td>-8.0</td>\n",
       "      <td>161_5338_0</td>\n",
       "      <td>8.529471e+05</td>\n",
       "      <td>9.285452e+05</td>\n",
       "      <td>1</td>\n",
       "      <td>0</td>\n",
       "    </tr>\n",
       "    <tr>\n",
       "      <th>6362619</th>\n",
       "      <td>685</td>\n",
       "      <td>CASH_OUT</td>\n",
       "      <td>4886421.05</td>\n",
       "      <td>161_7534_0</td>\n",
       "      <td>4886450.05</td>\n",
       "      <td>29.0</td>\n",
       "      <td>161_7495_0</td>\n",
       "      <td>3.186239e+03</td>\n",
       "      <td>4.886829e+06</td>\n",
       "      <td>1</td>\n",
       "      <td>0</td>\n",
       "    </tr>\n",
       "  </tbody>\n",
       "</table>\n",
       "<p>8213 rows × 11 columns</p>\n",
       "</div>"
      ],
      "text/plain": [
       "         step      type      amount    nameOrig  oldbalanceOrg  \\\n",
       "6354407   741  CASH_OUT        2.00  161_8178_0         -71.00   \n",
       "6354408   212  CASH_OUT   362998.52  161_2386_0      363050.52   \n",
       "6354409   568  CASH_OUT    66187.66  161_6282_0       66125.66   \n",
       "6354410    15  CASH_OUT   696771.08   161_168_0      696771.08   \n",
       "6354411   501  CASH_OUT    73332.47  161_5584_0       73285.47   \n",
       "...       ...       ...         ...         ...            ...   \n",
       "6362615   483  CASH_OUT    22982.73  161_5384_0       22981.73   \n",
       "6362616   214  CASH_OUT  1368390.50  161_2420_0     1368453.50   \n",
       "6362617   679  CASH_OUT  3150440.28  161_7476_0     3150454.28   \n",
       "6362618   482  CASH_OUT    75655.33  161_5366_0       75647.33   \n",
       "6362619   685  CASH_OUT  4886421.05  161_7534_0     4886450.05   \n",
       "\n",
       "         newbalanceOrig    nameDest  oldbalanceDest  newbalanceDest  isFraud  \\\n",
       "6354407           -73.0  161_8134_0    2.700696e+05    2.702828e+05        1   \n",
       "6354408            52.0  161_2374_0    2.159733e+06    2.523959e+06        1   \n",
       "6354409           -62.0  161_6251_0    7.177089e+05    7.832872e+05        1   \n",
       "6354410             0.0   161_167_0    3.688858e+05    1.351356e+06        1   \n",
       "6354411           -47.0  161_5556_0    1.253682e+05    1.923281e+05        1   \n",
       "...                 ...         ...             ...             ...      ...   \n",
       "6362615            -1.0  161_5356_0    3.279893e+06    3.304007e+06        1   \n",
       "6362616            63.0  161_2408_0    2.589394e+05    1.624944e+06        1   \n",
       "6362617            14.0  161_7437_0    6.372507e+03    3.157667e+06        1   \n",
       "6362618            -8.0  161_5338_0    8.529471e+05    9.285452e+05        1   \n",
       "6362619            29.0  161_7495_0    3.186239e+03    4.886829e+06        1   \n",
       "\n",
       "         isFlaggedFraud  \n",
       "6354407               0  \n",
       "6354408               0  \n",
       "6354409               0  \n",
       "6354410               0  \n",
       "6354411               0  \n",
       "...                 ...  \n",
       "6362615               0  \n",
       "6362616               0  \n",
       "6362617               0  \n",
       "6362618               0  \n",
       "6362619               0  \n",
       "\n",
       "[8213 rows x 11 columns]"
      ]
     },
     "execution_count": 39,
     "metadata": {},
     "output_type": "execute_result"
    }
   ],
   "source": [
    "df[df.isFraud==1] "
   ]
  },
  {
   "cell_type": "code",
   "execution_count": 4,
   "id": "c58add44",
   "metadata": {},
   "outputs": [
    {
     "data": {
      "text/plain": [
       "Index(['step', 'type', 'amount', 'nameOrig', 'oldbalanceOrg', 'newbalanceOrig',\n",
       "       'nameDest', 'oldbalanceDest', 'newbalanceDest', 'isFraud',\n",
       "       'isFlaggedFraud'],\n",
       "      dtype='object')"
      ]
     },
     "execution_count": 4,
     "metadata": {},
     "output_type": "execute_result"
    }
   ],
   "source": [
    "df.columns"
   ]
  },
  {
   "cell_type": "code",
   "execution_count": 5,
   "id": "dcc0ff38",
   "metadata": {},
   "outputs": [
    {
     "name": "stdout",
     "output_type": "stream",
     "text": [
      "<class 'pandas.core.frame.DataFrame'>\n",
      "RangeIndex: 6362620 entries, 0 to 6362619\n",
      "Data columns (total 11 columns):\n",
      " #   Column          Dtype  \n",
      "---  ------          -----  \n",
      " 0   step            int64  \n",
      " 1   type            object \n",
      " 2   amount          float64\n",
      " 3   nameOrig        object \n",
      " 4   oldbalanceOrg   float64\n",
      " 5   newbalanceOrig  float64\n",
      " 6   nameDest        object \n",
      " 7   oldbalanceDest  float64\n",
      " 8   newbalanceDest  float64\n",
      " 9   isFraud         int64  \n",
      " 10  isFlaggedFraud  int64  \n",
      "dtypes: float64(5), int64(3), object(3)\n",
      "memory usage: 534.0+ MB\n"
     ]
    }
   ],
   "source": [
    "df.info()"
   ]
  },
  {
   "cell_type": "code",
   "execution_count": 6,
   "id": "036b52b6",
   "metadata": {},
   "outputs": [
    {
     "data": {
      "text/html": [
       "<div>\n",
       "<style scoped>\n",
       "    .dataframe tbody tr th:only-of-type {\n",
       "        vertical-align: middle;\n",
       "    }\n",
       "\n",
       "    .dataframe tbody tr th {\n",
       "        vertical-align: top;\n",
       "    }\n",
       "\n",
       "    .dataframe thead th {\n",
       "        text-align: right;\n",
       "    }\n",
       "</style>\n",
       "<table border=\"1\" class=\"dataframe\">\n",
       "  <thead>\n",
       "    <tr style=\"text-align: right;\">\n",
       "      <th></th>\n",
       "      <th>step</th>\n",
       "      <th>amount</th>\n",
       "      <th>oldbalanceOrg</th>\n",
       "      <th>newbalanceOrig</th>\n",
       "      <th>oldbalanceDest</th>\n",
       "      <th>newbalanceDest</th>\n",
       "      <th>isFraud</th>\n",
       "      <th>isFlaggedFraud</th>\n",
       "    </tr>\n",
       "  </thead>\n",
       "  <tbody>\n",
       "    <tr>\n",
       "      <th>count</th>\n",
       "      <td>6.362620e+06</td>\n",
       "      <td>6.362620e+06</td>\n",
       "      <td>6.362620e+06</td>\n",
       "      <td>6.362620e+06</td>\n",
       "      <td>6.362620e+06</td>\n",
       "      <td>6.362620e+06</td>\n",
       "      <td>6.362620e+06</td>\n",
       "      <td>6.362620e+06</td>\n",
       "    </tr>\n",
       "    <tr>\n",
       "      <th>mean</th>\n",
       "      <td>2.390056e+02</td>\n",
       "      <td>1.798555e+05</td>\n",
       "      <td>8.338976e+05</td>\n",
       "      <td>7.930853e+05</td>\n",
       "      <td>1.100708e+06</td>\n",
       "      <td>1.225002e+06</td>\n",
       "      <td>1.290820e-03</td>\n",
       "      <td>2.200351e-06</td>\n",
       "    </tr>\n",
       "    <tr>\n",
       "      <th>std</th>\n",
       "      <td>1.416541e+02</td>\n",
       "      <td>6.038687e+05</td>\n",
       "      <td>2.888443e+06</td>\n",
       "      <td>2.853683e+06</td>\n",
       "      <td>3.399178e+06</td>\n",
       "      <td>3.674127e+06</td>\n",
       "      <td>3.590480e-02</td>\n",
       "      <td>1.483357e-03</td>\n",
       "    </tr>\n",
       "    <tr>\n",
       "      <th>min</th>\n",
       "      <td>1.000000e+00</td>\n",
       "      <td>-7.000000e+00</td>\n",
       "      <td>-9.500000e+01</td>\n",
       "      <td>-1.090000e+02</td>\n",
       "      <td>7.569468e-06</td>\n",
       "      <td>1.262637e-05</td>\n",
       "      <td>0.000000e+00</td>\n",
       "      <td>0.000000e+00</td>\n",
       "    </tr>\n",
       "    <tr>\n",
       "      <th>25%</th>\n",
       "      <td>1.530000e+02</td>\n",
       "      <td>1.338835e+04</td>\n",
       "      <td>1.579492e+00</td>\n",
       "      <td>0.000000e+00</td>\n",
       "      <td>1.000945e+01</td>\n",
       "      <td>1.108928e+01</td>\n",
       "      <td>0.000000e+00</td>\n",
       "      <td>0.000000e+00</td>\n",
       "    </tr>\n",
       "    <tr>\n",
       "      <th>50%</th>\n",
       "      <td>2.350000e+02</td>\n",
       "      <td>7.486883e+04</td>\n",
       "      <td>1.420658e+04</td>\n",
       "      <td>0.000000e+00</td>\n",
       "      <td>1.327044e+05</td>\n",
       "      <td>2.146617e+05</td>\n",
       "      <td>0.000000e+00</td>\n",
       "      <td>0.000000e+00</td>\n",
       "    </tr>\n",
       "    <tr>\n",
       "      <th>75%</th>\n",
       "      <td>3.310000e+02</td>\n",
       "      <td>2.087138e+05</td>\n",
       "      <td>1.073114e+05</td>\n",
       "      <td>4.948253e+04</td>\n",
       "      <td>9.430392e+05</td>\n",
       "      <td>1.111907e+06</td>\n",
       "      <td>0.000000e+00</td>\n",
       "      <td>0.000000e+00</td>\n",
       "    </tr>\n",
       "    <tr>\n",
       "      <th>max</th>\n",
       "      <td>7.430000e+02</td>\n",
       "      <td>9.244538e+07</td>\n",
       "      <td>5.958502e+07</td>\n",
       "      <td>4.958503e+07</td>\n",
       "      <td>3.560159e+08</td>\n",
       "      <td>3.561793e+08</td>\n",
       "      <td>1.000000e+00</td>\n",
       "      <td>1.000000e+00</td>\n",
       "    </tr>\n",
       "  </tbody>\n",
       "</table>\n",
       "</div>"
      ],
      "text/plain": [
       "               step        amount  oldbalanceOrg  newbalanceOrig  \\\n",
       "count  6.362620e+06  6.362620e+06   6.362620e+06    6.362620e+06   \n",
       "mean   2.390056e+02  1.798555e+05   8.338976e+05    7.930853e+05   \n",
       "std    1.416541e+02  6.038687e+05   2.888443e+06    2.853683e+06   \n",
       "min    1.000000e+00 -7.000000e+00  -9.500000e+01   -1.090000e+02   \n",
       "25%    1.530000e+02  1.338835e+04   1.579492e+00    0.000000e+00   \n",
       "50%    2.350000e+02  7.486883e+04   1.420658e+04    0.000000e+00   \n",
       "75%    3.310000e+02  2.087138e+05   1.073114e+05    4.948253e+04   \n",
       "max    7.430000e+02  9.244538e+07   5.958502e+07    4.958503e+07   \n",
       "\n",
       "       oldbalanceDest  newbalanceDest       isFraud  isFlaggedFraud  \n",
       "count    6.362620e+06    6.362620e+06  6.362620e+06    6.362620e+06  \n",
       "mean     1.100708e+06    1.225002e+06  1.290820e-03    2.200351e-06  \n",
       "std      3.399178e+06    3.674127e+06  3.590480e-02    1.483357e-03  \n",
       "min      7.569468e-06    1.262637e-05  0.000000e+00    0.000000e+00  \n",
       "25%      1.000945e+01    1.108928e+01  0.000000e+00    0.000000e+00  \n",
       "50%      1.327044e+05    2.146617e+05  0.000000e+00    0.000000e+00  \n",
       "75%      9.430392e+05    1.111907e+06  0.000000e+00    0.000000e+00  \n",
       "max      3.560159e+08    3.561793e+08  1.000000e+00    1.000000e+00  "
      ]
     },
     "execution_count": 6,
     "metadata": {},
     "output_type": "execute_result"
    }
   ],
   "source": [
    "df.describe()"
   ]
  },
  {
   "cell_type": "code",
   "execution_count": 7,
   "id": "149d5d2e",
   "metadata": {},
   "outputs": [
    {
     "data": {
      "text/plain": [
       "CASH_OUT    2237541\n",
       "PAYMENT     2151630\n",
       "CASH_IN     1399101\n",
       "TRANSFER     532919\n",
       "DEBIT         41429\n",
       "Name: type, dtype: int64"
      ]
     },
     "execution_count": 7,
     "metadata": {},
     "output_type": "execute_result"
    }
   ],
   "source": [
    "df.type.value_counts()"
   ]
  },
  {
   "cell_type": "code",
   "execution_count": 8,
   "id": "970568da",
   "metadata": {},
   "outputs": [
    {
     "data": {
      "text/plain": [
       "0    6354407\n",
       "1       8213\n",
       "Name: isFraud, dtype: int64"
      ]
     },
     "execution_count": 8,
     "metadata": {},
     "output_type": "execute_result"
    }
   ],
   "source": [
    "df.isFraud.value_counts()"
   ]
  },
  {
   "cell_type": "code",
   "execution_count": 9,
   "id": "b1fac9fd",
   "metadata": {},
   "outputs": [
    {
     "data": {
      "text/plain": [
       "9.999996e+06    19\n",
       "9.999990e+06    19\n",
       "1.000001e+07    18\n",
       "9.999998e+06    18\n",
       "1.000000e+07    17\n",
       "                ..\n",
       "1.268406e+05     1\n",
       "1.205129e+06     1\n",
       "4.080983e+04     1\n",
       "1.471632e+05     1\n",
       "4.886421e+06     1\n",
       "Name: amount, Length: 6362038, dtype: int64"
      ]
     },
     "execution_count": 9,
     "metadata": {},
     "output_type": "execute_result"
    }
   ],
   "source": [
    "df.amount.value_counts()"
   ]
  },
  {
   "cell_type": "code",
   "execution_count": 10,
   "id": "b49894e5",
   "metadata": {},
   "outputs": [
    {
     "data": {
      "text/plain": [
       "0"
      ]
     },
     "execution_count": 10,
     "metadata": {},
     "output_type": "execute_result"
    }
   ],
   "source": [
    "df.duplicated().sum()"
   ]
  },
  {
   "cell_type": "code",
   "execution_count": 11,
   "id": "947cd629",
   "metadata": {},
   "outputs": [],
   "source": [
    "# Data is highly imbalanced. There is only 0.0012% fraud transactions, while 99.87% transactions are not fraud."
   ]
  },
  {
   "cell_type": "markdown",
   "id": "5884ae80",
   "metadata": {},
   "source": [
    "# Data visualization"
   ]
  },
  {
   "cell_type": "code",
   "execution_count": 12,
   "id": "758ebee5",
   "metadata": {},
   "outputs": [
    {
     "data": {
      "text/plain": [
       "<AxesSubplot:xlabel='isFraud', ylabel='count'>"
      ]
     },
     "execution_count": 12,
     "metadata": {},
     "output_type": "execute_result"
    },
    {
     "data": {
      "image/png": "[encoded data removed]",
      "text/plain": [
       "<Figure size 640x480 with 1 Axes>"
      ]
     },
     "metadata": {},
     "output_type": "display_data"
    }
   ],
   "source": [
    "sns.countplot(x=df.isFraud ,data=df)"
   ]
  },
  {
   "cell_type": "code",
   "execution_count": 13,
   "id": "a4fe792a",
   "metadata": {},
   "outputs": [
    {
     "data": {
      "text/plain": [
       "<AxesSubplot:xlabel='type', ylabel='count'>"
      ]
     },
     "execution_count": 13,
     "metadata": {},
     "output_type": "execute_result"
    },
    {
     "data": {
      "image/png": "[encoded data removed]",
      "text/plain": [
       "<Figure size 640x480 with 1 Axes>"
      ]
     },
     "metadata": {},
     "output_type": "display_data"
    }
   ],
   "source": [
    "sns.countplot(x=df.type,data=df)"
   ]
  },
  {
   "cell_type": "code",
   "execution_count": 14,
   "id": "7bd3b464",
   "metadata": {},
   "outputs": [
    {
     "data": {
      "text/plain": [
       "<AxesSubplot:xlabel='type', ylabel='count'>"
      ]
     },
     "execution_count": 14,
     "metadata": {},
     "output_type": "execute_result"
    },
    {
     "data": {
      "image/png": "[encoded data removed]",
      "text/plain": [
       "<Figure size 640x480 with 1 Axes>"
      ]
     },
     "metadata": {},
     "output_type": "display_data"
    }
   ],
   "source": [
    "sns.countplot(data=df,x='type',hue='isFraud')"
   ]
  },
  {
   "cell_type": "code",
   "execution_count": 15,
   "id": "2dbc6804",
   "metadata": {},
   "outputs": [
    {
     "name": "stderr",
     "output_type": "stream",
     "text": [
      "C:\\ProgramData\\Anaconda3\\lib\\site-packages\\seaborn\\_decorators.py:36: FutureWarning: Pass the following variable as a keyword arg: x. From version 0.12, the only valid positional argument will be `data`, and passing other arguments without an explicit keyword will result in an error or misinterpretation.\n",
      "  warnings.warn(\n"
     ]
    },
    {
     "data": {
      "text/plain": [
       "<AxesSubplot:>"
      ]
     },
     "execution_count": 15,
     "metadata": {},
     "output_type": "execute_result"
    },
    {
     "data": {
      "image/png": "[encoded data removed]",
      "text/plain": [
       "<Figure size 640x480 with 1 Axes>"
      ]
     },
     "metadata": {},
     "output_type": "display_data"
    }
   ],
   "source": [
    "t=df.amount.value_counts().index\n",
    "sns.boxplot(t)"
   ]
  },
  {
   "cell_type": "code",
   "execution_count": 16,
   "id": "2eea034f",
   "metadata": {},
   "outputs": [],
   "source": [
    "# There is only 0.0012% fraud transactions, while 99.87% transactions are not fraud.\n",
    "# Only CASH_OUT and TRANSFER type of transactions have fraus transactions.\n",
    "# Boxplot shows that there are too many outliers. We will treat the outliers by scaling, later on in the notebook."
   ]
  },
  {
   "cell_type": "code",
   "execution_count": 17,
   "id": "a261f064",
   "metadata": {},
   "outputs": [],
   "source": [
    "correlation = df.corr()"
   ]
  },
  {
   "cell_type": "code",
   "execution_count": 18,
   "id": "fbd79c6b",
   "metadata": {},
   "outputs": [
    {
     "data": {
      "text/plain": [
       "<AxesSubplot:title={'center':'Correlation of Attributes with target variable'}>"
      ]
     },
     "execution_count": 18,
     "metadata": {},
     "output_type": "execute_result"
    },
    {
     "data": {
      "image/png": "[encoded data removed]",
      "text/plain": [
       "<Figure size 1000x800 with 2 Axes>"
      ]
     },
     "metadata": {},
     "output_type": "display_data"
    }
   ],
   "source": [
    "#Correlation Heat Map\n",
    "plt.figure(figsize=(10,8))\n",
    "plt.title('Correlation of Attributes with target variable')\n",
    "sns.heatmap(correlation,annot=True,cmap='Blues')"
   ]
  },
  {
   "cell_type": "code",
   "execution_count": 19,
   "id": "3025d61e",
   "metadata": {},
   "outputs": [],
   "source": [
    "# There is very high correlation between oldbalanceOrg and newbalanceOrig.\n",
    "# There is also very high correlation between oldbalanceDest and newbalanceDest.\n",
    "# There is multi-collinearity.\n",
    "\n",
    "# Since they are so highly correlated features, dropping one of them is the a good way to go forward,\n",
    "# as keeping both of them will lead to undesirable results."
   ]
  },
  {
   "cell_type": "markdown",
   "id": "8d346f51",
   "metadata": {},
   "source": [
    "# data preprocessing"
   ]
  },
  {
   "cell_type": "markdown",
   "id": "4f4b4af9",
   "metadata": {},
   "source": [
    "For the training data, which is extensive, we selectively extract only 2000 lines."
   ]
  },
  {
   "cell_type": "code",
   "execution_count": 30,
   "id": "0e7ff265",
   "metadata": {},
   "outputs": [],
   "source": [
    "from sklearn.compose import ColumnTransformer\n",
    "from sklearn.pipeline import Pipeline, make_pipeline\n",
    "from sklearn.impute import SimpleImputer\n",
    "from sklearn.preprocessing import StandardScaler,OneHotEncoder\n",
    "from sklearn.ensemble import RandomForestClassifier\n",
    "from sklearn.feature_selection import SelectKBest, chi2\n",
    "from sklearn.model_selection import train_test_split\n",
    "from sklearn.model_selection import cross_val_score"
   ]
  },
  {
   "cell_type": "code",
   "execution_count": 142,
   "id": "c14ce91f",
   "metadata": {},
   "outputs": [],
   "source": [
    "df_1=df[df.isFraud==1]\n",
    "df_0=df[df.isFraud==0]\n",
    "df_0=df_0[:15000]\n",
    "df_1=df_1[:15000]"
   ]
  },
  {
   "cell_type": "code",
   "execution_count": 143,
   "id": "e5a64e39",
   "metadata": {},
   "outputs": [],
   "source": [
    "df_new=pd.concat([df_0,df_1],axis=0)"
   ]
  },
  {
   "cell_type": "code",
   "execution_count": 144,
   "id": "d57d0bef",
   "metadata": {},
   "outputs": [],
   "source": [
    "X=df_new.drop(['isFraud'],axis=1)\n",
    "y=df_new.isFraud"
   ]
  },
  {
   "cell_type": "code",
   "execution_count": 145,
   "id": "4d92ac62",
   "metadata": {},
   "outputs": [
    {
     "data": {
      "text/plain": [
       "(23213, 10)"
      ]
     },
     "execution_count": 145,
     "metadata": {},
     "output_type": "execute_result"
    }
   ],
   "source": [
    "X.shape"
   ]
  },
  {
   "cell_type": "code",
   "execution_count": 146,
   "id": "16b0d694",
   "metadata": {},
   "outputs": [
    {
     "data": {
      "text/plain": [
       "array([0, 1], dtype=int64)"
      ]
     },
     "execution_count": 146,
     "metadata": {},
     "output_type": "execute_result"
    }
   ],
   "source": [
    "y.unique()"
   ]
  },
  {
   "cell_type": "code",
   "execution_count": 147,
   "id": "dbe24ca4",
   "metadata": {},
   "outputs": [],
   "source": [
    "# Split data \n",
    "X_train, X_test, y_train, y_test = train_test_split(X, y, test_size=0.2, random_state=42)"
   ]
  },
  {
   "cell_type": "code",
   "execution_count": 148,
   "id": "3f647f23",
   "metadata": {},
   "outputs": [
    {
     "data": {
      "text/html": [
       "<div>\n",
       "<style scoped>\n",
       "    .dataframe tbody tr th:only-of-type {\n",
       "        vertical-align: middle;\n",
       "    }\n",
       "\n",
       "    .dataframe tbody tr th {\n",
       "        vertical-align: top;\n",
       "    }\n",
       "\n",
       "    .dataframe thead th {\n",
       "        text-align: right;\n",
       "    }\n",
       "</style>\n",
       "<table border=\"1\" class=\"dataframe\">\n",
       "  <thead>\n",
       "    <tr style=\"text-align: right;\">\n",
       "      <th></th>\n",
       "      <th>step</th>\n",
       "      <th>type</th>\n",
       "      <th>amount</th>\n",
       "      <th>nameOrig</th>\n",
       "      <th>oldbalanceOrg</th>\n",
       "      <th>newbalanceOrig</th>\n",
       "      <th>nameDest</th>\n",
       "      <th>oldbalanceDest</th>\n",
       "      <th>newbalanceDest</th>\n",
       "      <th>isFlaggedFraud</th>\n",
       "    </tr>\n",
       "  </thead>\n",
       "  <tbody>\n",
       "    <tr>\n",
       "      <th>6293</th>\n",
       "      <td>41</td>\n",
       "      <td>CASH_OUT</td>\n",
       "      <td>4.155564e+04</td>\n",
       "      <td>160_850321_0</td>\n",
       "      <td>1.555070e+04</td>\n",
       "      <td>0.0</td>\n",
       "      <td>160_65816_0</td>\n",
       "      <td>2.016484e+06</td>\n",
       "      <td>2.057991e+06</td>\n",
       "      <td>0</td>\n",
       "    </tr>\n",
       "    <tr>\n",
       "      <th>1162</th>\n",
       "      <td>203</td>\n",
       "      <td>TRANSFER</td>\n",
       "      <td>3.548188e+06</td>\n",
       "      <td>160_2446908_0</td>\n",
       "      <td>1.102044e+00</td>\n",
       "      <td>0.0</td>\n",
       "      <td>160_41764_0</td>\n",
       "      <td>4.303366e+06</td>\n",
       "      <td>8.725848e+06</td>\n",
       "      <td>0</td>\n",
       "    </tr>\n",
       "    <tr>\n",
       "      <th>6664</th>\n",
       "      <td>378</td>\n",
       "      <td>CASH_OUT</td>\n",
       "      <td>3.426570e+05</td>\n",
       "      <td>160_5428091_0</td>\n",
       "      <td>1.816918e+00</td>\n",
       "      <td>0.0</td>\n",
       "      <td>160_696765_0</td>\n",
       "      <td>1.621024e+06</td>\n",
       "      <td>1.963802e+06</td>\n",
       "      <td>0</td>\n",
       "    </tr>\n",
       "    <tr>\n",
       "      <th>11012</th>\n",
       "      <td>41</td>\n",
       "      <td>PAYMENT</td>\n",
       "      <td>9.511795e+03</td>\n",
       "      <td>160_2013952_0</td>\n",
       "      <td>5.894687e-01</td>\n",
       "      <td>0.0</td>\n",
       "      <td>160_857336_0</td>\n",
       "      <td>6.320222e+00</td>\n",
       "      <td>8.334986e+00</td>\n",
       "      <td>0</td>\n",
       "    </tr>\n",
       "    <tr>\n",
       "      <th>8139</th>\n",
       "      <td>187</td>\n",
       "      <td>PAYMENT</td>\n",
       "      <td>9.412256e+03</td>\n",
       "      <td>160_75234_0</td>\n",
       "      <td>1.766312e+00</td>\n",
       "      <td>0.0</td>\n",
       "      <td>160_40431_0</td>\n",
       "      <td>1.284054e+01</td>\n",
       "      <td>1.052505e+01</td>\n",
       "      <td>0</td>\n",
       "    </tr>\n",
       "    <tr>\n",
       "      <th>...</th>\n",
       "      <td>...</td>\n",
       "      <td>...</td>\n",
       "      <td>...</td>\n",
       "      <td>...</td>\n",
       "      <td>...</td>\n",
       "      <td>...</td>\n",
       "      <td>...</td>\n",
       "      <td>...</td>\n",
       "      <td>...</td>\n",
       "      <td>...</td>\n",
       "    </tr>\n",
       "    <tr>\n",
       "      <th>11964</th>\n",
       "      <td>131</td>\n",
       "      <td>PAYMENT</td>\n",
       "      <td>9.582888e+03</td>\n",
       "      <td>160_2633585_0</td>\n",
       "      <td>5.509212e-01</td>\n",
       "      <td>0.0</td>\n",
       "      <td>160_1119322_0</td>\n",
       "      <td>1.092903e+01</td>\n",
       "      <td>1.223483e+01</td>\n",
       "      <td>0</td>\n",
       "    </tr>\n",
       "    <tr>\n",
       "      <th>6360982</th>\n",
       "      <td>350</td>\n",
       "      <td>TRANSFER</td>\n",
       "      <td>8.357618e+05</td>\n",
       "      <td>161_5967_0</td>\n",
       "      <td>8.357018e+05</td>\n",
       "      <td>-60.0</td>\n",
       "      <td>161_5938_0</td>\n",
       "      <td>1.923122e+03</td>\n",
       "      <td>4.899847e+03</td>\n",
       "      <td>0</td>\n",
       "    </tr>\n",
       "    <tr>\n",
       "      <th>5390</th>\n",
       "      <td>138</td>\n",
       "      <td>CASH_OUT</td>\n",
       "      <td>3.183198e+05</td>\n",
       "      <td>160_1363263_0</td>\n",
       "      <td>7.112720e+04</td>\n",
       "      <td>0.0</td>\n",
       "      <td>160_564338_0</td>\n",
       "      <td>1.496981e+01</td>\n",
       "      <td>1.460358e+05</td>\n",
       "      <td>0</td>\n",
       "    </tr>\n",
       "    <tr>\n",
       "      <th>860</th>\n",
       "      <td>330</td>\n",
       "      <td>CASH_OUT</td>\n",
       "      <td>1.111888e+05</td>\n",
       "      <td>160_4633625_0</td>\n",
       "      <td>1.518211e+04</td>\n",
       "      <td>0.0</td>\n",
       "      <td>160_1701465_0</td>\n",
       "      <td>1.905581e+05</td>\n",
       "      <td>3.018272e+05</td>\n",
       "      <td>0</td>\n",
       "    </tr>\n",
       "    <tr>\n",
       "      <th>6355202</th>\n",
       "      <td>406</td>\n",
       "      <td>CASH_OUT</td>\n",
       "      <td>4.160898e+06</td>\n",
       "      <td>161_4558_0</td>\n",
       "      <td>4.160897e+06</td>\n",
       "      <td>-1.0</td>\n",
       "      <td>161_4532_0</td>\n",
       "      <td>3.650943e+05</td>\n",
       "      <td>4.528781e+06</td>\n",
       "      <td>0</td>\n",
       "    </tr>\n",
       "  </tbody>\n",
       "</table>\n",
       "<p>18570 rows × 10 columns</p>\n",
       "</div>"
      ],
      "text/plain": [
       "         step      type        amount       nameOrig  oldbalanceOrg  \\\n",
       "6293       41  CASH_OUT  4.155564e+04   160_850321_0   1.555070e+04   \n",
       "1162      203  TRANSFER  3.548188e+06  160_2446908_0   1.102044e+00   \n",
       "6664      378  CASH_OUT  3.426570e+05  160_5428091_0   1.816918e+00   \n",
       "11012      41   PAYMENT  9.511795e+03  160_2013952_0   5.894687e-01   \n",
       "8139      187   PAYMENT  9.412256e+03    160_75234_0   1.766312e+00   \n",
       "...       ...       ...           ...            ...            ...   \n",
       "11964     131   PAYMENT  9.582888e+03  160_2633585_0   5.509212e-01   \n",
       "6360982   350  TRANSFER  8.357618e+05     161_5967_0   8.357018e+05   \n",
       "5390      138  CASH_OUT  3.183198e+05  160_1363263_0   7.112720e+04   \n",
       "860       330  CASH_OUT  1.111888e+05  160_4633625_0   1.518211e+04   \n",
       "6355202   406  CASH_OUT  4.160898e+06     161_4558_0   4.160897e+06   \n",
       "\n",
       "         newbalanceOrig       nameDest  oldbalanceDest  newbalanceDest  \\\n",
       "6293                0.0    160_65816_0    2.016484e+06    2.057991e+06   \n",
       "1162                0.0    160_41764_0    4.303366e+06    8.725848e+06   \n",
       "6664                0.0   160_696765_0    1.621024e+06    1.963802e+06   \n",
       "11012               0.0   160_857336_0    6.320222e+00    8.334986e+00   \n",
       "8139                0.0    160_40431_0    1.284054e+01    1.052505e+01   \n",
       "...                 ...            ...             ...             ...   \n",
       "11964               0.0  160_1119322_0    1.092903e+01    1.223483e+01   \n",
       "6360982           -60.0     161_5938_0    1.923122e+03    4.899847e+03   \n",
       "5390                0.0   160_564338_0    1.496981e+01    1.460358e+05   \n",
       "860                 0.0  160_1701465_0    1.905581e+05    3.018272e+05   \n",
       "6355202            -1.0     161_4532_0    3.650943e+05    4.528781e+06   \n",
       "\n",
       "         isFlaggedFraud  \n",
       "6293                  0  \n",
       "1162                  0  \n",
       "6664                  0  \n",
       "11012                 0  \n",
       "8139                  0  \n",
       "...                 ...  \n",
       "11964                 0  \n",
       "6360982               0  \n",
       "5390                  0  \n",
       "860                   0  \n",
       "6355202               0  \n",
       "\n",
       "[18570 rows x 10 columns]"
      ]
     },
     "execution_count": 148,
     "metadata": {},
     "output_type": "execute_result"
    }
   ],
   "source": [
    "X_train"
   ]
  },
  {
   "cell_type": "code",
   "execution_count": 149,
   "id": "0b65e1c9",
   "metadata": {},
   "outputs": [
    {
     "data": {
      "text/plain": [
       "(4643, 10)"
      ]
     },
     "execution_count": 149,
     "metadata": {},
     "output_type": "execute_result"
    }
   ],
   "source": [
    "X_test.shape"
   ]
  },
  {
   "cell_type": "code",
   "execution_count": 150,
   "id": "6e66dae2",
   "metadata": {},
   "outputs": [],
   "source": [
    "#define numeric and categorical features\n",
    "numer_fea=[]\n",
    "categ_fea=[]\n",
    "for col in X.columns:\n",
    "    if df[str(col)].dtypes==\"float64\" or df[str(col)].dtypes=='int64':\n",
    "        numer_fea.append(col)\n",
    "    else:\n",
    "        categ_fea.append(col)"
   ]
  },
  {
   "cell_type": "code",
   "execution_count": 151,
   "id": "197f9c66",
   "metadata": {},
   "outputs": [
    {
     "data": {
      "text/plain": [
       "['type', 'nameOrig', 'nameDest']"
      ]
     },
     "execution_count": 151,
     "metadata": {},
     "output_type": "execute_result"
    }
   ],
   "source": [
    "#numer_fea\n",
    "categ_fea"
   ]
  },
  {
   "cell_type": "code",
   "execution_count": 152,
   "id": "229a74d2",
   "metadata": {},
   "outputs": [],
   "source": [
    "# Numeric transformer pipeline\n",
    "numeric_transformer = Pipeline(steps=[\n",
    "    ('imputer', SimpleImputer(strategy='mean')),\n",
    "    ('scaler', StandardScaler())\n",
    "])\n",
    "\n",
    "# Categorical transformer pipeline\n",
    "catego_transformer = Pipeline(steps=[\n",
    "    ('imputer', SimpleImputer(strategy='most_frequent')),\n",
    "    ('label', OneHotEncoder(handle_unknown='ignore'))\n",
    "])\n",
    "\n",
    "# Column transformer\n",
    "preprocessor = ColumnTransformer(\n",
    "    transformers=[\n",
    "        ('num', numeric_transformer, numer_fea),\n",
    "        ('cat', catego_transformer, categ_fea)\n",
    "    ],\n",
    "    remainder='passthrough'\n",
    ")\n",
    "from sklearn.feature_selection import f_classif\n",
    "# Feature selection\n",
    "trf4 = SelectKBest(score_func=f_classif, k=5)\n",
    "\n",
    "trf5 = RandomForestClassifier(n_estimators=100, class_weight='balanced')\n",
    "\n",
    "# Create pipeline\n",
    "pipe = make_pipeline(preprocessor, trf4, trf5)\n"
   ]
  },
  {
   "cell_type": "code",
   "execution_count": 153,
   "id": "074fd0a4",
   "metadata": {},
   "outputs": [
    {
     "data": {
      "text/html": [
       "<style>#sk-47377703-159d-43ab-a986-09f1b222cf5c {color: black;background-color: white;}#sk-47377703-159d-43ab-a986-09f1b222cf5c pre{padding: 0;}#sk-47377703-159d-43ab-a986-09f1b222cf5c div.sk-toggleable {background-color: white;}#sk-47377703-159d-43ab-a986-09f1b222cf5c label.sk-toggleable__label {cursor: pointer;display: block;width: 100%;margin-bottom: 0;padding: 0.3em;box-sizing: border-box;text-align: center;}#sk-47377703-159d-43ab-a986-09f1b222cf5c label.sk-toggleable__label-arrow:before {content: \"▸\";float: left;margin-right: 0.25em;color: #696969;}#sk-47377703-159d-43ab-a986-09f1b222cf5c label.sk-toggleable__label-arrow:hover:before {color: black;}#sk-47377703-159d-43ab-a986-09f1b222cf5c div.sk-estimator:hover label.sk-toggleable__label-arrow:before {color: black;}#sk-47377703-159d-43ab-a986-09f1b222cf5c div.sk-toggleable__content {max-height: 0;max-width: 0;overflow: hidden;text-align: left;background-color: #f0f8ff;}#sk-47377703-159d-43ab-a986-09f1b222cf5c div.sk-toggleable__content pre {margin: 0.2em;color: black;border-radius: 0.25em;background-color: #f0f8ff;}#sk-47377703-159d-43ab-a986-09f1b222cf5c input.sk-toggleable__control:checked~div.sk-toggleable__content {max-height: 200px;max-width: 100%;overflow: auto;}#sk-47377703-159d-43ab-a986-09f1b222cf5c input.sk-toggleable__control:checked~label.sk-toggleable__label-arrow:before {content: \"▾\";}#sk-47377703-159d-43ab-a986-09f1b222cf5c div.sk-estimator input.sk-toggleable__control:checked~label.sk-toggleable__label {background-color: #d4ebff;}#sk-47377703-159d-43ab-a986-09f1b222cf5c div.sk-label input.sk-toggleable__control:checked~label.sk-toggleable__label {background-color: #d4ebff;}#sk-47377703-159d-43ab-a986-09f1b222cf5c input.sk-hidden--visually {border: 0;clip: rect(1px 1px 1px 1px);clip: rect(1px, 1px, 1px, 1px);height: 1px;margin: -1px;overflow: hidden;padding: 0;position: absolute;width: 1px;}#sk-47377703-159d-43ab-a986-09f1b222cf5c div.sk-estimator {font-family: monospace;background-color: #f0f8ff;border: 1px dotted black;border-radius: 0.25em;box-sizing: border-box;margin-bottom: 0.5em;}#sk-47377703-159d-43ab-a986-09f1b222cf5c div.sk-estimator:hover {background-color: #d4ebff;}#sk-47377703-159d-43ab-a986-09f1b222cf5c div.sk-parallel-item::after {content: \"\";width: 100%;border-bottom: 1px solid gray;flex-grow: 1;}#sk-47377703-159d-43ab-a986-09f1b222cf5c div.sk-label:hover label.sk-toggleable__label {background-color: #d4ebff;}#sk-47377703-159d-43ab-a986-09f1b222cf5c div.sk-serial::before {content: \"\";position: absolute;border-left: 1px solid gray;box-sizing: border-box;top: 2em;bottom: 0;left: 50%;}#sk-47377703-159d-43ab-a986-09f1b222cf5c div.sk-serial {display: flex;flex-direction: column;align-items: center;background-color: white;padding-right: 0.2em;padding-left: 0.2em;}#sk-47377703-159d-43ab-a986-09f1b222cf5c div.sk-item {z-index: 1;}#sk-47377703-159d-43ab-a986-09f1b222cf5c div.sk-parallel {display: flex;align-items: stretch;justify-content: center;background-color: white;}#sk-47377703-159d-43ab-a986-09f1b222cf5c div.sk-parallel::before {content: \"\";position: absolute;border-left: 1px solid gray;box-sizing: border-box;top: 2em;bottom: 0;left: 50%;}#sk-47377703-159d-43ab-a986-09f1b222cf5c div.sk-parallel-item {display: flex;flex-direction: column;position: relative;background-color: white;}#sk-47377703-159d-43ab-a986-09f1b222cf5c div.sk-parallel-item:first-child::after {align-self: flex-end;width: 50%;}#sk-47377703-159d-43ab-a986-09f1b222cf5c div.sk-parallel-item:last-child::after {align-self: flex-start;width: 50%;}#sk-47377703-159d-43ab-a986-09f1b222cf5c div.sk-parallel-item:only-child::after {width: 0;}#sk-47377703-159d-43ab-a986-09f1b222cf5c div.sk-dashed-wrapped {border: 1px dashed gray;margin: 0 0.4em 0.5em 0.4em;box-sizing: border-box;padding-bottom: 0.4em;background-color: white;position: relative;}#sk-47377703-159d-43ab-a986-09f1b222cf5c div.sk-label label {font-family: monospace;font-weight: bold;background-color: white;display: inline-block;line-height: 1.2em;}#sk-47377703-159d-43ab-a986-09f1b222cf5c div.sk-label-container {position: relative;z-index: 2;text-align: center;}#sk-47377703-159d-43ab-a986-09f1b222cf5c div.sk-container {/* jupyter's `normalize.less` sets `[hidden] { display: none; }` but bootstrap.min.css set `[hidden] { display: none !important; }` so we also need the `!important` here to be able to override the default hidden behavior on the sphinx rendered scikit-learn.org. See: https://github.com/scikit-learn/scikit-learn/issues/21755 */display: inline-block !important;position: relative;}#sk-47377703-159d-43ab-a986-09f1b222cf5c div.sk-text-repr-fallback {display: none;}</style><div id=\"sk-47377703-159d-43ab-a986-09f1b222cf5c\" class=\"sk-top-container\"><div class=\"sk-text-repr-fallback\"><pre>Pipeline(steps=[(&#x27;columntransformer&#x27;,\n",
       "                 ColumnTransformer(remainder=&#x27;passthrough&#x27;,\n",
       "                                   transformers=[(&#x27;num&#x27;,\n",
       "                                                  Pipeline(steps=[(&#x27;imputer&#x27;,\n",
       "                                                                   SimpleImputer()),\n",
       "                                                                  (&#x27;scaler&#x27;,\n",
       "                                                                   StandardScaler())]),\n",
       "                                                  [&#x27;step&#x27;, &#x27;amount&#x27;,\n",
       "                                                   &#x27;oldbalanceOrg&#x27;,\n",
       "                                                   &#x27;newbalanceOrig&#x27;,\n",
       "                                                   &#x27;oldbalanceDest&#x27;,\n",
       "                                                   &#x27;newbalanceDest&#x27;,\n",
       "                                                   &#x27;isFlaggedFraud&#x27;]),\n",
       "                                                 (&#x27;cat&#x27;,\n",
       "                                                  Pipeline(steps=[(&#x27;imputer&#x27;,\n",
       "                                                                   SimpleImputer(strategy=&#x27;most_frequent&#x27;)),\n",
       "                                                                  (&#x27;label&#x27;,\n",
       "                                                                   OneHotEncoder(handle_unknown=&#x27;ignore&#x27;))]),\n",
       "                                                  [&#x27;type&#x27;, &#x27;nameOrig&#x27;,\n",
       "                                                   &#x27;nameDest&#x27;])])),\n",
       "                (&#x27;selectkbest&#x27;, SelectKBest(k=5)),\n",
       "                (&#x27;randomforestclassifier&#x27;,\n",
       "                 RandomForestClassifier(class_weight=&#x27;balanced&#x27;))])</pre><b>Please rerun this cell to show the HTML repr or trust the notebook.</b></div><div class=\"sk-container\" hidden><div class=\"sk-item sk-dashed-wrapped\"><div class=\"sk-label-container\"><div class=\"sk-label sk-toggleable\"><input class=\"sk-toggleable__control sk-hidden--visually\" id=\"0d7a0751-5be1-475c-b6f4-7b6001d0fdfc\" type=\"checkbox\" ><label for=\"0d7a0751-5be1-475c-b6f4-7b6001d0fdfc\" class=\"sk-toggleable__label sk-toggleable__label-arrow\">Pipeline</label><div class=\"sk-toggleable__content\"><pre>Pipeline(steps=[(&#x27;columntransformer&#x27;,\n",
       "                 ColumnTransformer(remainder=&#x27;passthrough&#x27;,\n",
       "                                   transformers=[(&#x27;num&#x27;,\n",
       "                                                  Pipeline(steps=[(&#x27;imputer&#x27;,\n",
       "                                                                   SimpleImputer()),\n",
       "                                                                  (&#x27;scaler&#x27;,\n",
       "                                                                   StandardScaler())]),\n",
       "                                                  [&#x27;step&#x27;, &#x27;amount&#x27;,\n",
       "                                                   &#x27;oldbalanceOrg&#x27;,\n",
       "                                                   &#x27;newbalanceOrig&#x27;,\n",
       "                                                   &#x27;oldbalanceDest&#x27;,\n",
       "                                                   &#x27;newbalanceDest&#x27;,\n",
       "                                                   &#x27;isFlaggedFraud&#x27;]),\n",
       "                                                 (&#x27;cat&#x27;,\n",
       "                                                  Pipeline(steps=[(&#x27;imputer&#x27;,\n",
       "                                                                   SimpleImputer(strategy=&#x27;most_frequent&#x27;)),\n",
       "                                                                  (&#x27;label&#x27;,\n",
       "                                                                   OneHotEncoder(handle_unknown=&#x27;ignore&#x27;))]),\n",
       "                                                  [&#x27;type&#x27;, &#x27;nameOrig&#x27;,\n",
       "                                                   &#x27;nameDest&#x27;])])),\n",
       "                (&#x27;selectkbest&#x27;, SelectKBest(k=5)),\n",
       "                (&#x27;randomforestclassifier&#x27;,\n",
       "                 RandomForestClassifier(class_weight=&#x27;balanced&#x27;))])</pre></div></div></div><div class=\"sk-serial\"><div class=\"sk-item sk-dashed-wrapped\"><div class=\"sk-label-container\"><div class=\"sk-label sk-toggleable\"><input class=\"sk-toggleable__control sk-hidden--visually\" id=\"73aba195-6dd9-4ef9-ab7d-44149b656365\" type=\"checkbox\" ><label for=\"73aba195-6dd9-4ef9-ab7d-44149b656365\" class=\"sk-toggleable__label sk-toggleable__label-arrow\">columntransformer: ColumnTransformer</label><div class=\"sk-toggleable__content\"><pre>ColumnTransformer(remainder=&#x27;passthrough&#x27;,\n",
       "                  transformers=[(&#x27;num&#x27;,\n",
       "                                 Pipeline(steps=[(&#x27;imputer&#x27;, SimpleImputer()),\n",
       "                                                 (&#x27;scaler&#x27;, StandardScaler())]),\n",
       "                                 [&#x27;step&#x27;, &#x27;amount&#x27;, &#x27;oldbalanceOrg&#x27;,\n",
       "                                  &#x27;newbalanceOrig&#x27;, &#x27;oldbalanceDest&#x27;,\n",
       "                                  &#x27;newbalanceDest&#x27;, &#x27;isFlaggedFraud&#x27;]),\n",
       "                                (&#x27;cat&#x27;,\n",
       "                                 Pipeline(steps=[(&#x27;imputer&#x27;,\n",
       "                                                  SimpleImputer(strategy=&#x27;most_frequent&#x27;)),\n",
       "                                                 (&#x27;label&#x27;,\n",
       "                                                  OneHotEncoder(handle_unknown=&#x27;ignore&#x27;))]),\n",
       "                                 [&#x27;type&#x27;, &#x27;nameOrig&#x27;, &#x27;nameDest&#x27;])])</pre></div></div></div><div class=\"sk-parallel\"><div class=\"sk-parallel-item\"><div class=\"sk-item\"><div class=\"sk-label-container\"><div class=\"sk-label sk-toggleable\"><input class=\"sk-toggleable__control sk-hidden--visually\" id=\"b20d9d14-8982-414f-957e-9bf802d1997e\" type=\"checkbox\" ><label for=\"b20d9d14-8982-414f-957e-9bf802d1997e\" class=\"sk-toggleable__label sk-toggleable__label-arrow\">num</label><div class=\"sk-toggleable__content\"><pre>[&#x27;step&#x27;, &#x27;amount&#x27;, &#x27;oldbalanceOrg&#x27;, &#x27;newbalanceOrig&#x27;, &#x27;oldbalanceDest&#x27;, &#x27;newbalanceDest&#x27;, &#x27;isFlaggedFraud&#x27;]</pre></div></div></div><div class=\"sk-serial\"><div class=\"sk-item\"><div class=\"sk-serial\"><div class=\"sk-item\"><div class=\"sk-estimator sk-toggleable\"><input class=\"sk-toggleable__control sk-hidden--visually\" id=\"7ffa4e37-31d1-4fdf-bde8-0e4a125187ba\" type=\"checkbox\" ><label for=\"7ffa4e37-31d1-4fdf-bde8-0e4a125187ba\" class=\"sk-toggleable__label sk-toggleable__label-arrow\">SimpleImputer</label><div class=\"sk-toggleable__content\"><pre>SimpleImputer()</pre></div></div></div><div class=\"sk-item\"><div class=\"sk-estimator sk-toggleable\"><input class=\"sk-toggleable__control sk-hidden--visually\" id=\"0f34b9a3-a933-443a-98f6-dcfee7316b53\" type=\"checkbox\" ><label for=\"0f34b9a3-a933-443a-98f6-dcfee7316b53\" class=\"sk-toggleable__label sk-toggleable__label-arrow\">StandardScaler</label><div class=\"sk-toggleable__content\"><pre>StandardScaler()</pre></div></div></div></div></div></div></div></div><div class=\"sk-parallel-item\"><div class=\"sk-item\"><div class=\"sk-label-container\"><div class=\"sk-label sk-toggleable\"><input class=\"sk-toggleable__control sk-hidden--visually\" id=\"4765ec6e-a0d3-492d-a2e2-e22f275d18ba\" type=\"checkbox\" ><label for=\"4765ec6e-a0d3-492d-a2e2-e22f275d18ba\" class=\"sk-toggleable__label sk-toggleable__label-arrow\">cat</label><div class=\"sk-toggleable__content\"><pre>[&#x27;type&#x27;, &#x27;nameOrig&#x27;, &#x27;nameDest&#x27;]</pre></div></div></div><div class=\"sk-serial\"><div class=\"sk-item\"><div class=\"sk-serial\"><div class=\"sk-item\"><div class=\"sk-estimator sk-toggleable\"><input class=\"sk-toggleable__control sk-hidden--visually\" id=\"a1d9993d-81e8-4a99-b393-590bae390083\" type=\"checkbox\" ><label for=\"a1d9993d-81e8-4a99-b393-590bae390083\" class=\"sk-toggleable__label sk-toggleable__label-arrow\">SimpleImputer</label><div class=\"sk-toggleable__content\"><pre>SimpleImputer(strategy=&#x27;most_frequent&#x27;)</pre></div></div></div><div class=\"sk-item\"><div class=\"sk-estimator sk-toggleable\"><input class=\"sk-toggleable__control sk-hidden--visually\" id=\"14aaaa41-d814-4c22-84ed-08467ef4af8c\" type=\"checkbox\" ><label for=\"14aaaa41-d814-4c22-84ed-08467ef4af8c\" class=\"sk-toggleable__label sk-toggleable__label-arrow\">OneHotEncoder</label><div class=\"sk-toggleable__content\"><pre>OneHotEncoder(handle_unknown=&#x27;ignore&#x27;)</pre></div></div></div></div></div></div></div></div><div class=\"sk-parallel-item\"><div class=\"sk-item\"><div class=\"sk-label-container\"><div class=\"sk-label sk-toggleable\"><input class=\"sk-toggleable__control sk-hidden--visually\" id=\"b9a37e8b-7411-4141-a522-4d702c52f25e\" type=\"checkbox\" ><label for=\"b9a37e8b-7411-4141-a522-4d702c52f25e\" class=\"sk-toggleable__label sk-toggleable__label-arrow\">remainder</label><div class=\"sk-toggleable__content\"><pre>[]</pre></div></div></div><div class=\"sk-serial\"><div class=\"sk-item\"><div class=\"sk-estimator sk-toggleable\"><input class=\"sk-toggleable__control sk-hidden--visually\" id=\"74fdb46f-4fa0-436a-9466-7082f4556652\" type=\"checkbox\" ><label for=\"74fdb46f-4fa0-436a-9466-7082f4556652\" class=\"sk-toggleable__label sk-toggleable__label-arrow\">passthrough</label><div class=\"sk-toggleable__content\"><pre>passthrough</pre></div></div></div></div></div></div></div></div><div class=\"sk-item\"><div class=\"sk-estimator sk-toggleable\"><input class=\"sk-toggleable__control sk-hidden--visually\" id=\"f4eca6ca-97b7-4447-8a8e-e25c7e3d2eef\" type=\"checkbox\" ><label for=\"f4eca6ca-97b7-4447-8a8e-e25c7e3d2eef\" class=\"sk-toggleable__label sk-toggleable__label-arrow\">SelectKBest</label><div class=\"sk-toggleable__content\"><pre>SelectKBest(k=5)</pre></div></div></div><div class=\"sk-item\"><div class=\"sk-estimator sk-toggleable\"><input class=\"sk-toggleable__control sk-hidden--visually\" id=\"a1fd4792-cfd3-4494-8061-463e5fcc11f6\" type=\"checkbox\" ><label for=\"a1fd4792-cfd3-4494-8061-463e5fcc11f6\" class=\"sk-toggleable__label sk-toggleable__label-arrow\">RandomForestClassifier</label><div class=\"sk-toggleable__content\"><pre>RandomForestClassifier(class_weight=&#x27;balanced&#x27;)</pre></div></div></div></div></div></div></div>"
      ],
      "text/plain": [
       "Pipeline(steps=[('columntransformer',\n",
       "                 ColumnTransformer(remainder='passthrough',\n",
       "                                   transformers=[('num',\n",
       "                                                  Pipeline(steps=[('imputer',\n",
       "                                                                   SimpleImputer()),\n",
       "                                                                  ('scaler',\n",
       "                                                                   StandardScaler())]),\n",
       "                                                  ['step', 'amount',\n",
       "                                                   'oldbalanceOrg',\n",
       "                                                   'newbalanceOrig',\n",
       "                                                   'oldbalanceDest',\n",
       "                                                   'newbalanceDest',\n",
       "                                                   'isFlaggedFraud']),\n",
       "                                                 ('cat',\n",
       "                                                  Pipeline(steps=[('imputer',\n",
       "                                                                   SimpleImputer(strategy='most_frequent')),\n",
       "                                                                  ('label',\n",
       "                                                                   OneHotEncoder(handle_unknown='ignore'))]),\n",
       "                                                  ['type', 'nameOrig',\n",
       "                                                   'nameDest'])])),\n",
       "                ('selectkbest', SelectKBest(k=5)),\n",
       "                ('randomforestclassifier',\n",
       "                 RandomForestClassifier(class_weight='balanced'))])"
      ]
     },
     "execution_count": 153,
     "metadata": {},
     "output_type": "execute_result"
    }
   ],
   "source": [
    "# Fit the pipeline on training data\n",
    "pipe.fit(X_train,y_train)"
   ]
  },
  {
   "cell_type": "code",
   "execution_count": 154,
   "id": "84d8287c",
   "metadata": {},
   "outputs": [
    {
     "data": {
      "text/plain": [
       "{'k': 5,\n",
       " 'score_func': <function sklearn.feature_selection._univariate_selection.f_classif(X, y)>}"
      ]
     },
     "execution_count": 154,
     "metadata": {},
     "output_type": "execute_result"
    }
   ],
   "source": [
    "# Access the feature selection transformer (assuming 'trf4' is the name you assigned)\n",
    "feature_selection_transformer = pipe.named_steps['selectkbest']\n",
    "\n",
    "# Access specific information about the transformer\n",
    "feature_selection_transformer.get_params()\n"
   ]
  },
  {
   "cell_type": "code",
   "execution_count": 155,
   "id": "f5878a19",
   "metadata": {},
   "outputs": [],
   "source": [
    "from sklearn import set_config\n",
    "set_config(display='diagram')"
   ]
  },
  {
   "cell_type": "code",
   "execution_count": 156,
   "id": "2213730a",
   "metadata": {},
   "outputs": [
    {
     "name": "stdout",
     "output_type": "stream",
     "text": [
      "Cross-validation scores: [0.93322563 0.91383953 0.92137857 0.91976306 0.91276252 0.908993\n",
      " 0.92514809 0.92299408 0.92837911 0.91922456]\n",
      "Mean CV score: 0.9205708131394722\n",
      "Standard deviation of CV scores: 0.007009852550473087\n"
     ]
    }
   ],
   "source": [
    "# Cross-validation\n",
    "cv_scores = cross_val_score(pipe, X_train, y_train, cv=10, scoring='accuracy')\n",
    "\n",
    "# Print the cross-validation scores\n",
    "print(\"Cross-validation scores:\", cv_scores)\n",
    "\n",
    "# Print the mean and standard deviation of the cross-validation scores\n",
    "print(\"Mean CV score:\", cv_scores.mean())\n",
    "print(\"Standard deviation of CV scores:\", cv_scores.std())"
   ]
  },
  {
   "cell_type": "code",
   "execution_count": 157,
   "id": "3089aedf",
   "metadata": {},
   "outputs": [
    {
     "data": {
      "text/plain": [
       "array([0, 1, 0, ..., 0, 1, 1], dtype=int64)"
      ]
     },
     "execution_count": 157,
     "metadata": {},
     "output_type": "execute_result"
    }
   ],
   "source": [
    "y_pred = pipe.predict(X_test)\n",
    "y_pred"
   ]
  },
  {
   "cell_type": "code",
   "execution_count": 158,
   "id": "b99b56e1",
   "metadata": {},
   "outputs": [
    {
     "data": {
      "text/plain": [
       "0.9213870342451002"
      ]
     },
     "execution_count": 158,
     "metadata": {},
     "output_type": "execute_result"
    }
   ],
   "source": [
    "from sklearn.metrics import accuracy_score\n",
    "accuracy_score(y_test,y_pred)"
   ]
  },
  {
   "cell_type": "markdown",
   "id": "33d928e8",
   "metadata": {},
   "source": [
    "# data evaluation"
   ]
  },
  {
   "cell_type": "code",
   "execution_count": 159,
   "id": "3f5e126f",
   "metadata": {},
   "outputs": [],
   "source": [
    "from sklearn.metrics import accuracy_score, precision_score, recall_score, f1_score, confusion_matrix"
   ]
  },
  {
   "cell_type": "code",
   "execution_count": 160,
   "id": "ee5f2548",
   "metadata": {},
   "outputs": [
    {
     "name": "stdout",
     "output_type": "stream",
     "text": [
      "Accuracy: 0.9213870342451002\n"
     ]
    }
   ],
   "source": [
    "accuracy = accuracy_score(y_test, y_pred)\n",
    "print(f\"Accuracy: {accuracy}\")"
   ]
  },
  {
   "cell_type": "code",
   "execution_count": 161,
   "id": "e777cd12",
   "metadata": {},
   "outputs": [
    {
     "data": {
      "text/plain": [
       "array([[2806,  179],\n",
       "       [ 186, 1472]], dtype=int64)"
      ]
     },
     "execution_count": 161,
     "metadata": {},
     "output_type": "execute_result"
    }
   ],
   "source": [
    "cm = confusion_matrix(y_test, y_pred)\n",
    "cm"
   ]
  },
  {
   "cell_type": "code",
   "execution_count": 162,
   "id": "07006035",
   "metadata": {},
   "outputs": [
    {
     "name": "stdout",
     "output_type": "stream",
     "text": [
      "Accuracy: 0.9213870342451002\n",
      "Precision: 0.8915808600847971\n",
      "Recall: 0.887816646562123\n",
      "F1 Score: 0.9213499176587064\n"
     ]
    }
   ],
   "source": [
    "accuracy = accuracy_score(y_test, y_pred)\n",
    "precision = precision_score(y_test, y_pred)\n",
    "recall = recall_score(y_test, y_pred)\n",
    "f1 = f1_score(y_test, y_pred, average=\"weighted\")\n",
    "\n",
    "print(\"Accuracy:\", accuracy)\n",
    "print(\"Precision:\", precision)\n",
    "print(\"Recall:\", recall)\n",
    "print(\"F1 Score:\", f1)"
   ]
  },
  {
   "cell_type": "code",
   "execution_count": 163,
   "id": "2c99f8c9",
   "metadata": {},
   "outputs": [],
   "source": [
    "# We can clearly see that the above model with the imbalanced data is not good. The accuracy might be 99.8%, and the\n",
    "# Recall is only 88%."
   ]
  },
  {
   "cell_type": "code",
   "execution_count": null,
   "id": "5f3c0270",
   "metadata": {},
   "outputs": [],
   "source": []
  },
  {
   "cell_type": "code",
   "execution_count": null,
   "id": "3234f876",
   "metadata": {},
   "outputs": [],
   "source": []
  }
 ],
 "metadata": {
  "kernelspec": {
   "display_name": "Python 3 (ipykernel)",
   "language": "python",
   "name": "python3"
  },
  "language_info": {
   "codemirror_mode": {
    "name": "ipython",
    "version": 3
   },
   "file_extension": ".py",
   "mimetype": "text/x-python",
   "name": "python",
   "nbconvert_exporter": "python",
   "pygments_lexer": "ipython3",
   "version": "3.9.13"
  }
 },
 "nbformat": 4,
 "nbformat_minor": 5
}
