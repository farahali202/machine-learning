{
 "cells": [
  {
   "cell_type": "markdown",
   "id": "5d331bf2",
   "metadata": {},
   "source": [
    "# Prediction of Fraudlent transactions"
   ]
  },
  {
   "cell_type": "code",
   "execution_count": 1,
   "id": "08f69c77",
   "metadata": {},
   "outputs": [],
   "source": [
    "import pandas as pd\n",
    "import numpy as np\n",
    "import matplotlib.pyplot as plt\n",
    "%matplotlib inline\n",
    "import seaborn as sns"
   ]
  },
  {
   "cell_type": "code",
   "execution_count": 2,
   "id": "e2733cad",
   "metadata": {},
   "outputs": [],
   "source": [
    "# Reading data into a DataFrame\n",
    "df=pd.read_csv('synth_composite.csv')"
   ]
  },
  {
   "cell_type": "code",
   "execution_count": 3,
   "id": "942c7114",
   "metadata": {},
   "outputs": [
    {
     "data": {
      "text/html": [
       "<div>\n",
       "<style scoped>\n",
       "    .dataframe tbody tr th:only-of-type {\n",
       "        vertical-align: middle;\n",
       "    }\n",
       "\n",
       "    .dataframe tbody tr th {\n",
       "        vertical-align: top;\n",
       "    }\n",
       "\n",
       "    .dataframe thead th {\n",
       "        text-align: right;\n",
       "    }\n",
       "</style>\n",
       "<table border=\"1\" class=\"dataframe\">\n",
       "  <thead>\n",
       "    <tr style=\"text-align: right;\">\n",
       "      <th></th>\n",
       "      <th>step</th>\n",
       "      <th>type</th>\n",
       "      <th>amount</th>\n",
       "      <th>nameOrig</th>\n",
       "      <th>oldbalanceOrg</th>\n",
       "      <th>newbalanceOrig</th>\n",
       "      <th>nameDest</th>\n",
       "      <th>oldbalanceDest</th>\n",
       "      <th>newbalanceDest</th>\n",
       "      <th>isFraud</th>\n",
       "      <th>isFlaggedFraud</th>\n",
       "    </tr>\n",
       "  </thead>\n",
       "  <tbody>\n",
       "    <tr>\n",
       "      <th>0</th>\n",
       "      <td>211</td>\n",
       "      <td>CASH_OUT</td>\n",
       "      <td>184185.755277</td>\n",
       "      <td>160_2696646_0</td>\n",
       "      <td>203108.476051</td>\n",
       "      <td>18922.720773</td>\n",
       "      <td>160_901564_0</td>\n",
       "      <td>1.019994e+06</td>\n",
       "      <td>1.204127e+06</td>\n",
       "      <td>0</td>\n",
       "      <td>0</td>\n",
       "    </tr>\n",
       "    <tr>\n",
       "      <th>1</th>\n",
       "      <td>394</td>\n",
       "      <td>CASH_OUT</td>\n",
       "      <td>237093.196009</td>\n",
       "      <td>160_5585569_0</td>\n",
       "      <td>382707.464238</td>\n",
       "      <td>145614.268230</td>\n",
       "      <td>160_1586945_0</td>\n",
       "      <td>5.870893e+05</td>\n",
       "      <td>8.243203e+05</td>\n",
       "      <td>0</td>\n",
       "      <td>0</td>\n",
       "    </tr>\n",
       "    <tr>\n",
       "      <th>2</th>\n",
       "      <td>306</td>\n",
       "      <td>CASH_IN</td>\n",
       "      <td>163600.518794</td>\n",
       "      <td>160_4221372_0</td>\n",
       "      <td>3093.431169</td>\n",
       "      <td>0.000000</td>\n",
       "      <td>160_1701821_0</td>\n",
       "      <td>6.534538e+05</td>\n",
       "      <td>4.901219e+05</td>\n",
       "      <td>0</td>\n",
       "      <td>0</td>\n",
       "    </tr>\n",
       "    <tr>\n",
       "      <th>3</th>\n",
       "      <td>235</td>\n",
       "      <td>PAYMENT</td>\n",
       "      <td>7625.866018</td>\n",
       "      <td>160_3064357_0</td>\n",
       "      <td>74630.853812</td>\n",
       "      <td>67004.987793</td>\n",
       "      <td>160_1304279_0</td>\n",
       "      <td>1.666019e+01</td>\n",
       "      <td>1.362096e+01</td>\n",
       "      <td>0</td>\n",
       "      <td>0</td>\n",
       "    </tr>\n",
       "  </tbody>\n",
       "</table>\n",
       "</div>"
      ],
      "text/plain": [
       "   step      type         amount       nameOrig  oldbalanceOrg  \\\n",
       "0   211  CASH_OUT  184185.755277  160_2696646_0  203108.476051   \n",
       "1   394  CASH_OUT  237093.196009  160_5585569_0  382707.464238   \n",
       "2   306   CASH_IN  163600.518794  160_4221372_0    3093.431169   \n",
       "3   235   PAYMENT    7625.866018  160_3064357_0   74630.853812   \n",
       "\n",
       "   newbalanceOrig       nameDest  oldbalanceDest  newbalanceDest  isFraud  \\\n",
       "0    18922.720773   160_901564_0    1.019994e+06    1.204127e+06        0   \n",
       "1   145614.268230  160_1586945_0    5.870893e+05    8.243203e+05        0   \n",
       "2        0.000000  160_1701821_0    6.534538e+05    4.901219e+05        0   \n",
       "3    67004.987793  160_1304279_0    1.666019e+01    1.362096e+01        0   \n",
       "\n",
       "   isFlaggedFraud  \n",
       "0               0  \n",
       "1               0  \n",
       "2               0  \n",
       "3               0  "
      ]
     },
     "execution_count": 3,
     "metadata": {},
     "output_type": "execute_result"
    }
   ],
   "source": [
    "df.head(4)"
   ]
  },
  {
   "cell_type": "code",
   "execution_count": 4,
   "id": "c58add44",
   "metadata": {},
   "outputs": [
    {
     "data": {
      "text/plain": [
       "Index(['step', 'type', 'amount', 'nameOrig', 'oldbalanceOrg', 'newbalanceOrig',\n",
       "       'nameDest', 'oldbalanceDest', 'newbalanceDest', 'isFraud',\n",
       "       'isFlaggedFraud'],\n",
       "      dtype='object')"
      ]
     },
     "execution_count": 4,
     "metadata": {},
     "output_type": "execute_result"
    }
   ],
   "source": [
    "df.columns"
   ]
  },
  {
   "cell_type": "code",
   "execution_count": 5,
   "id": "dcc0ff38",
   "metadata": {},
   "outputs": [
    {
     "name": "stdout",
     "output_type": "stream",
     "text": [
      "<class 'pandas.core.frame.DataFrame'>\n",
      "RangeIndex: 6362620 entries, 0 to 6362619\n",
      "Data columns (total 11 columns):\n",
      " #   Column          Dtype  \n",
      "---  ------          -----  \n",
      " 0   step            int64  \n",
      " 1   type            object \n",
      " 2   amount          float64\n",
      " 3   nameOrig        object \n",
      " 4   oldbalanceOrg   float64\n",
      " 5   newbalanceOrig  float64\n",
      " 6   nameDest        object \n",
      " 7   oldbalanceDest  float64\n",
      " 8   newbalanceDest  float64\n",
      " 9   isFraud         int64  \n",
      " 10  isFlaggedFraud  int64  \n",
      "dtypes: float64(5), int64(3), object(3)\n",
      "memory usage: 534.0+ MB\n"
     ]
    }
   ],
   "source": [
    "df.info()"
   ]
  },
  {
   "cell_type": "code",
   "execution_count": 6,
   "id": "036b52b6",
   "metadata": {},
   "outputs": [
    {
     "data": {
      "text/html": [
       "<div>\n",
       "<style scoped>\n",
       "    .dataframe tbody tr th:only-of-type {\n",
       "        vertical-align: middle;\n",
       "    }\n",
       "\n",
       "    .dataframe tbody tr th {\n",
       "        vertical-align: top;\n",
       "    }\n",
       "\n",
       "    .dataframe thead th {\n",
       "        text-align: right;\n",
       "    }\n",
       "</style>\n",
       "<table border=\"1\" class=\"dataframe\">\n",
       "  <thead>\n",
       "    <tr style=\"text-align: right;\">\n",
       "      <th></th>\n",
       "      <th>step</th>\n",
       "      <th>amount</th>\n",
       "      <th>oldbalanceOrg</th>\n",
       "      <th>newbalanceOrig</th>\n",
       "      <th>oldbalanceDest</th>\n",
       "      <th>newbalanceDest</th>\n",
       "      <th>isFraud</th>\n",
       "      <th>isFlaggedFraud</th>\n",
       "    </tr>\n",
       "  </thead>\n",
       "  <tbody>\n",
       "    <tr>\n",
       "      <th>count</th>\n",
       "      <td>6.362620e+06</td>\n",
       "      <td>6.362620e+06</td>\n",
       "      <td>6.362620e+06</td>\n",
       "      <td>6.362620e+06</td>\n",
       "      <td>6.362620e+06</td>\n",
       "      <td>6.362620e+06</td>\n",
       "      <td>6.362620e+06</td>\n",
       "      <td>6.362620e+06</td>\n",
       "    </tr>\n",
       "    <tr>\n",
       "      <th>mean</th>\n",
       "      <td>2.390056e+02</td>\n",
       "      <td>1.798555e+05</td>\n",
       "      <td>8.338976e+05</td>\n",
       "      <td>7.930853e+05</td>\n",
       "      <td>1.100708e+06</td>\n",
       "      <td>1.225002e+06</td>\n",
       "      <td>1.290820e-03</td>\n",
       "      <td>2.200351e-06</td>\n",
       "    </tr>\n",
       "    <tr>\n",
       "      <th>std</th>\n",
       "      <td>1.416541e+02</td>\n",
       "      <td>6.038687e+05</td>\n",
       "      <td>2.888443e+06</td>\n",
       "      <td>2.853683e+06</td>\n",
       "      <td>3.399178e+06</td>\n",
       "      <td>3.674127e+06</td>\n",
       "      <td>3.590480e-02</td>\n",
       "      <td>1.483357e-03</td>\n",
       "    </tr>\n",
       "    <tr>\n",
       "      <th>min</th>\n",
       "      <td>1.000000e+00</td>\n",
       "      <td>-7.000000e+00</td>\n",
       "      <td>-9.500000e+01</td>\n",
       "      <td>-1.090000e+02</td>\n",
       "      <td>7.569468e-06</td>\n",
       "      <td>1.262637e-05</td>\n",
       "      <td>0.000000e+00</td>\n",
       "      <td>0.000000e+00</td>\n",
       "    </tr>\n",
       "    <tr>\n",
       "      <th>25%</th>\n",
       "      <td>1.530000e+02</td>\n",
       "      <td>1.338835e+04</td>\n",
       "      <td>1.579492e+00</td>\n",
       "      <td>0.000000e+00</td>\n",
       "      <td>1.000945e+01</td>\n",
       "      <td>1.108928e+01</td>\n",
       "      <td>0.000000e+00</td>\n",
       "      <td>0.000000e+00</td>\n",
       "    </tr>\n",
       "    <tr>\n",
       "      <th>50%</th>\n",
       "      <td>2.350000e+02</td>\n",
       "      <td>7.486883e+04</td>\n",
       "      <td>1.420658e+04</td>\n",
       "      <td>0.000000e+00</td>\n",
       "      <td>1.327044e+05</td>\n",
       "      <td>2.146617e+05</td>\n",
       "      <td>0.000000e+00</td>\n",
       "      <td>0.000000e+00</td>\n",
       "    </tr>\n",
       "    <tr>\n",
       "      <th>75%</th>\n",
       "      <td>3.310000e+02</td>\n",
       "      <td>2.087138e+05</td>\n",
       "      <td>1.073114e+05</td>\n",
       "      <td>4.948253e+04</td>\n",
       "      <td>9.430392e+05</td>\n",
       "      <td>1.111907e+06</td>\n",
       "      <td>0.000000e+00</td>\n",
       "      <td>0.000000e+00</td>\n",
       "    </tr>\n",
       "    <tr>\n",
       "      <th>max</th>\n",
       "      <td>7.430000e+02</td>\n",
       "      <td>9.244538e+07</td>\n",
       "      <td>5.958502e+07</td>\n",
       "      <td>4.958503e+07</td>\n",
       "      <td>3.560159e+08</td>\n",
       "      <td>3.561793e+08</td>\n",
       "      <td>1.000000e+00</td>\n",
       "      <td>1.000000e+00</td>\n",
       "    </tr>\n",
       "  </tbody>\n",
       "</table>\n",
       "</div>"
      ],
      "text/plain": [
       "               step        amount  oldbalanceOrg  newbalanceOrig  \\\n",
       "count  6.362620e+06  6.362620e+06   6.362620e+06    6.362620e+06   \n",
       "mean   2.390056e+02  1.798555e+05   8.338976e+05    7.930853e+05   \n",
       "std    1.416541e+02  6.038687e+05   2.888443e+06    2.853683e+06   \n",
       "min    1.000000e+00 -7.000000e+00  -9.500000e+01   -1.090000e+02   \n",
       "25%    1.530000e+02  1.338835e+04   1.579492e+00    0.000000e+00   \n",
       "50%    2.350000e+02  7.486883e+04   1.420658e+04    0.000000e+00   \n",
       "75%    3.310000e+02  2.087138e+05   1.073114e+05    4.948253e+04   \n",
       "max    7.430000e+02  9.244538e+07   5.958502e+07    4.958503e+07   \n",
       "\n",
       "       oldbalanceDest  newbalanceDest       isFraud  isFlaggedFraud  \n",
       "count    6.362620e+06    6.362620e+06  6.362620e+06    6.362620e+06  \n",
       "mean     1.100708e+06    1.225002e+06  1.290820e-03    2.200351e-06  \n",
       "std      3.399178e+06    3.674127e+06  3.590480e-02    1.483357e-03  \n",
       "min      7.569468e-06    1.262637e-05  0.000000e+00    0.000000e+00  \n",
       "25%      1.000945e+01    1.108928e+01  0.000000e+00    0.000000e+00  \n",
       "50%      1.327044e+05    2.146617e+05  0.000000e+00    0.000000e+00  \n",
       "75%      9.430392e+05    1.111907e+06  0.000000e+00    0.000000e+00  \n",
       "max      3.560159e+08    3.561793e+08  1.000000e+00    1.000000e+00  "
      ]
     },
     "execution_count": 6,
     "metadata": {},
     "output_type": "execute_result"
    }
   ],
   "source": [
    "df.describe()"
   ]
  },
  {
   "cell_type": "code",
   "execution_count": 7,
   "id": "149d5d2e",
   "metadata": {},
   "outputs": [
    {
     "data": {
      "text/plain": [
       "CASH_OUT    2237541\n",
       "PAYMENT     2151630\n",
       "CASH_IN     1399101\n",
       "TRANSFER     532919\n",
       "DEBIT         41429\n",
       "Name: type, dtype: int64"
      ]
     },
     "execution_count": 7,
     "metadata": {},
     "output_type": "execute_result"
    }
   ],
   "source": [
    "df.type.value_counts()"
   ]
  },
  {
   "cell_type": "code",
   "execution_count": 8,
   "id": "970568da",
   "metadata": {},
   "outputs": [
    {
     "data": {
      "text/plain": [
       "0    6354407\n",
       "1       8213\n",
       "Name: isFraud, dtype: int64"
      ]
     },
     "execution_count": 8,
     "metadata": {},
     "output_type": "execute_result"
    }
   ],
   "source": [
    "df.isFraud.value_counts()"
   ]
  },
  {
   "cell_type": "code",
   "execution_count": 9,
   "id": "b1fac9fd",
   "metadata": {},
   "outputs": [
    {
     "data": {
      "text/plain": [
       "9.999996e+06    19\n",
       "9.999990e+06    19\n",
       "1.000001e+07    18\n",
       "9.999998e+06    18\n",
       "1.000000e+07    17\n",
       "                ..\n",
       "1.268406e+05     1\n",
       "1.205129e+06     1\n",
       "4.080983e+04     1\n",
       "1.471632e+05     1\n",
       "4.886421e+06     1\n",
       "Name: amount, Length: 6362038, dtype: int64"
      ]
     },
     "execution_count": 9,
     "metadata": {},
     "output_type": "execute_result"
    }
   ],
   "source": [
    "df.amount.value_counts()"
   ]
  },
  {
   "cell_type": "code",
   "execution_count": 10,
   "id": "a8668e88",
   "metadata": {},
   "outputs": [
    {
     "data": {
      "text/plain": [
       "step              0\n",
       "type              0\n",
       "amount            0\n",
       "nameOrig          0\n",
       "oldbalanceOrg     0\n",
       "newbalanceOrig    0\n",
       "nameDest          0\n",
       "oldbalanceDest    0\n",
       "newbalanceDest    0\n",
       "isFraud           0\n",
       "isFlaggedFraud    0\n",
       "dtype: int64"
      ]
     },
     "execution_count": 10,
     "metadata": {},
     "output_type": "execute_result"
    }
   ],
   "source": [
    "df.isnull().sum()"
   ]
  },
  {
   "cell_type": "code",
   "execution_count": 11,
   "id": "b49894e5",
   "metadata": {},
   "outputs": [
    {
     "data": {
      "text/plain": [
       "0"
      ]
     },
     "execution_count": 11,
     "metadata": {},
     "output_type": "execute_result"
    }
   ],
   "source": [
    "df.duplicated().sum()"
   ]
  },
  {
   "cell_type": "code",
   "execution_count": 12,
   "id": "947cd629",
   "metadata": {},
   "outputs": [],
   "source": [
    "# Data is highly imbalanced. There is only 0.0012% fraud transactions, while 99.87% transactions are not fraud."
   ]
  },
  {
   "cell_type": "markdown",
   "id": "5884ae80",
   "metadata": {},
   "source": [
    "# Data visualization"
   ]
  },
  {
   "cell_type": "code",
   "execution_count": 13,
   "id": "758ebee5",
   "metadata": {},
   "outputs": [
    {
     "data": {
      "text/plain": [
       "<AxesSubplot:xlabel='isFraud', ylabel='count'>"
      ]
     },
     "execution_count": 13,
     "metadata": {},
     "output_type": "execute_result"
    },
    {
     "data": {
      "image/png": "[encoded data removed]",
      "text/plain": [
       "<Figure size 640x480 with 1 Axes>"
      ]
     },
     "metadata": {},
     "output_type": "display_data"
    }
   ],
   "source": [
    "sns.countplot(x=df.isFraud ,data=df)"
   ]
  },
  {
   "cell_type": "code",
   "execution_count": 14,
   "id": "a4fe792a",
   "metadata": {},
   "outputs": [
    {
     "data": {
      "text/plain": [
       "<AxesSubplot:xlabel='type', ylabel='count'>"
      ]
     },
     "execution_count": 14,
     "metadata": {},
     "output_type": "execute_result"
    },
    {
     "data": {
      "image/png": "[encoded data removed]",
      "text/plain": [
       "<Figure size 640x480 with 1 Axes>"
      ]
     },
     "metadata": {},
     "output_type": "display_data"
    }
   ],
   "source": [
    "sns.countplot(x=df.type,data=df)"
   ]
  },
  {
   "cell_type": "code",
   "execution_count": 15,
   "id": "7bd3b464",
   "metadata": {},
   "outputs": [
    {
     "data": {
      "text/plain": [
       "<AxesSubplot:xlabel='type', ylabel='count'>"
      ]
     },
     "execution_count": 15,
     "metadata": {},
     "output_type": "execute_result"
    },
    {
     "data": {
      "image/png": "[encoded data removed]",
      "text/plain": [
       "<Figure size 640x480 with 1 Axes>"
      ]
     },
     "metadata": {},
     "output_type": "display_data"
    }
   ],
   "source": [
    "sns.countplot(data=df,x='type',hue='isFraud')"
   ]
  },
  {
   "cell_type": "code",
   "execution_count": 16,
   "id": "2dbc6804",
   "metadata": {},
   "outputs": [
    {
     "name": "stderr",
     "output_type": "stream",
     "text": [
      "C:\\ProgramData\\Anaconda3\\lib\\site-packages\\seaborn\\_decorators.py:36: FutureWarning: Pass the following variable as a keyword arg: x. From version 0.12, the only valid positional argument will be `data`, and passing other arguments without an explicit keyword will result in an error or misinterpretation.\n",
      "  warnings.warn(\n"
     ]
    },
    {
     "data": {
      "text/plain": [
       "<AxesSubplot:>"
      ]
     },
     "execution_count": 16,
     "metadata": {},
     "output_type": "execute_result"
    },
    {
     "data": {
      "image/png": "[encoded data removed]",
      "text/plain": [
       "<Figure size 640x480 with 1 Axes>"
      ]
     },
     "metadata": {},
     "output_type": "display_data"
    }
   ],
   "source": [
    "t=df.amount.value_counts().index\n",
    "sns.boxplot(t)"
   ]
  },
  {
   "cell_type": "code",
   "execution_count": 17,
   "id": "2eea034f",
   "metadata": {},
   "outputs": [],
   "source": [
    "# There is only 0.0012% fraud transactions, while 99.87% transactions are not fraud.\n",
    "# Only CASH_OUT and TRANSFER type of transactions have fraus transactions.\n",
    "# Boxplot shows that there are too many outliers. We will treat the outliers by IsolationForest, later on in the notebook."
   ]
  },
  {
   "cell_type": "markdown",
   "id": "ce0c8354",
   "metadata": {},
   "source": [
    "# IsolationForest pour la détection d'anomalies"
   ]
  },
  {
   "cell_type": "markdown",
   "id": "78d9f1a5",
   "metadata": {},
   "source": [
    "1% contamination-->1000 outliers(normal amount)"
   ]
  },
  {
   "cell_type": "code",
   "execution_count": 32,
   "id": "19a65244",
   "metadata": {},
   "outputs": [],
   "source": [
    "from sklearn.ensemble import IsolationForest\n",
    "# Taux d'anomalie attendu dans les données\n",
    "contamination=0.01\n",
    "dfc=df.copy()"
   ]
  },
  {
   "cell_type": "code",
   "execution_count": 27,
   "id": "dbe24ca4",
   "metadata": {},
   "outputs": [
    {
     "name": "stderr",
     "output_type": "stream",
     "text": [
      "C:\\ProgramData\\Anaconda3\\lib\\site-packages\\sklearn\\base.py:450: UserWarning: X does not have valid feature names, but IsolationForest was fitted with feature names\n",
      "  warnings.warn(\n"
     ]
    },
    {
     "name": "stdout",
     "output_type": "stream",
     "text": [
      "Wall time: 8min 55s\n"
     ]
    },
    {
     "data": {
      "text/plain": [
       "IsolationForest(contamination=0.01)"
      ]
     },
     "execution_count": 27,
     "metadata": {},
     "output_type": "execute_result"
    }
   ],
   "source": [
    "%%time\n",
    "model=IsolationForest(contamination=contamination,n_estimators=100)\n",
    "model.fit(dfc)"
   ]
  },
  {
   "cell_type": "code",
   "execution_count": 29,
   "id": "3f647f23",
   "metadata": {},
   "outputs": [
    {
     "name": "stdout",
     "output_type": "stream",
     "text": [
      "0    6298993\n",
      "1      63627\n",
      "Name: inforest, dtype: int64\n"
     ]
    }
   ],
   "source": [
    "#Prédiction des anomalies\n",
    "df['inforest'] = pd.Series(model.predict(dfc))#-1 pour les anomalies (outliers) et 1 pour les exemples normaux.\n",
    "df['inforest'] = df['inforest'].map({1: 0, -1: 1})\n",
    "\n",
    "print(df['inforest'].value_counts())"
   ]
  },
  {
   "cell_type": "markdown",
   "id": "9f3cfefa",
   "metadata": {},
   "source": [
    "# Détection de doublons  avec RandomForest "
   ]
  },
  {
   "cell_type": "code",
   "execution_count": 33,
   "id": "6e66dae2",
   "metadata": {},
   "outputs": [
    {
     "data": {
      "text/html": [
       "<div>\n",
       "<style scoped>\n",
       "    .dataframe tbody tr th:only-of-type {\n",
       "        vertical-align: middle;\n",
       "    }\n",
       "\n",
       "    .dataframe tbody tr th {\n",
       "        vertical-align: top;\n",
       "    }\n",
       "\n",
       "    .dataframe thead th {\n",
       "        text-align: right;\n",
       "    }\n",
       "</style>\n",
       "<table border=\"1\" class=\"dataframe\">\n",
       "  <thead>\n",
       "    <tr style=\"text-align: right;\">\n",
       "      <th></th>\n",
       "      <th>step</th>\n",
       "      <th>type</th>\n",
       "      <th>amount</th>\n",
       "      <th>nameOrig</th>\n",
       "      <th>oldbalanceOrg</th>\n",
       "      <th>newbalanceOrig</th>\n",
       "      <th>nameDest</th>\n",
       "      <th>oldbalanceDest</th>\n",
       "      <th>newbalanceDest</th>\n",
       "      <th>isFraud</th>\n",
       "      <th>isFlaggedFraud</th>\n",
       "      <th>inforest</th>\n",
       "    </tr>\n",
       "  </thead>\n",
       "  <tbody>\n",
       "    <tr>\n",
       "      <th>91320</th>\n",
       "      <td>182</td>\n",
       "      <td>CASH_OUT</td>\n",
       "      <td>341663.023945</td>\n",
       "      <td>160_1344032_0</td>\n",
       "      <td>4.984074e+05</td>\n",
       "      <td>1.567444e+05</td>\n",
       "      <td>160_110006_0</td>\n",
       "      <td>1.143683e+06</td>\n",
       "      <td>1.485415e+06</td>\n",
       "      <td>0</td>\n",
       "      <td>0</td>\n",
       "      <td>0</td>\n",
       "    </tr>\n",
       "    <tr>\n",
       "      <th>126261</th>\n",
       "      <td>14</td>\n",
       "      <td>CASH_OUT</td>\n",
       "      <td>164298.380036</td>\n",
       "      <td>160_237567_0</td>\n",
       "      <td>1.308554e+00</td>\n",
       "      <td>0.000000e+00</td>\n",
       "      <td>160_51472_0</td>\n",
       "      <td>1.850767e+06</td>\n",
       "      <td>1.861776e+06</td>\n",
       "      <td>0</td>\n",
       "      <td>0</td>\n",
       "      <td>0</td>\n",
       "    </tr>\n",
       "    <tr>\n",
       "      <th>126428</th>\n",
       "      <td>225</td>\n",
       "      <td>CASH_IN</td>\n",
       "      <td>29101.172269</td>\n",
       "      <td>160_2806380_0</td>\n",
       "      <td>1.847564e+06</td>\n",
       "      <td>1.818463e+06</td>\n",
       "      <td>160_184463_0</td>\n",
       "      <td>3.238981e+05</td>\n",
       "      <td>2.948341e+05</td>\n",
       "      <td>0</td>\n",
       "      <td>0</td>\n",
       "      <td>0</td>\n",
       "    </tr>\n",
       "    <tr>\n",
       "      <th>147279</th>\n",
       "      <td>304</td>\n",
       "      <td>PAYMENT</td>\n",
       "      <td>6285.979443</td>\n",
       "      <td>160_3335748_0</td>\n",
       "      <td>1.024174e+00</td>\n",
       "      <td>0.000000e+00</td>\n",
       "      <td>160_1422771_0</td>\n",
       "      <td>1.340921e+01</td>\n",
       "      <td>2.497994e+00</td>\n",
       "      <td>0</td>\n",
       "      <td>0</td>\n",
       "      <td>0</td>\n",
       "    </tr>\n",
       "    <tr>\n",
       "      <th>147294</th>\n",
       "      <td>234</td>\n",
       "      <td>PAYMENT</td>\n",
       "      <td>6467.409576</td>\n",
       "      <td>160_3343801_0</td>\n",
       "      <td>1.072058e+00</td>\n",
       "      <td>0.000000e+00</td>\n",
       "      <td>160_1426194_0</td>\n",
       "      <td>7.941932e+00</td>\n",
       "      <td>4.095192e+00</td>\n",
       "      <td>0</td>\n",
       "      <td>0</td>\n",
       "      <td>0</td>\n",
       "    </tr>\n",
       "    <tr>\n",
       "      <th>...</th>\n",
       "      <td>...</td>\n",
       "      <td>...</td>\n",
       "      <td>...</td>\n",
       "      <td>...</td>\n",
       "      <td>...</td>\n",
       "      <td>...</td>\n",
       "      <td>...</td>\n",
       "      <td>...</td>\n",
       "      <td>...</td>\n",
       "      <td>...</td>\n",
       "      <td>...</td>\n",
       "      <td>...</td>\n",
       "    </tr>\n",
       "    <tr>\n",
       "      <th>6353377</th>\n",
       "      <td>17</td>\n",
       "      <td>CASH_OUT</td>\n",
       "      <td>264422.244701</td>\n",
       "      <td>160_372264_0</td>\n",
       "      <td>3.007848e+05</td>\n",
       "      <td>3.636259e+04</td>\n",
       "      <td>160_77932_0</td>\n",
       "      <td>2.503096e+05</td>\n",
       "      <td>5.149228e+05</td>\n",
       "      <td>0</td>\n",
       "      <td>0</td>\n",
       "      <td>0</td>\n",
       "    </tr>\n",
       "    <tr>\n",
       "      <th>6353826</th>\n",
       "      <td>279</td>\n",
       "      <td>CASH_IN</td>\n",
       "      <td>28076.689375</td>\n",
       "      <td>160_1051649_0</td>\n",
       "      <td>1.043394e+04</td>\n",
       "      <td>0.000000e+00</td>\n",
       "      <td>160_670958_0</td>\n",
       "      <td>3.023171e+06</td>\n",
       "      <td>2.995209e+06</td>\n",
       "      <td>0</td>\n",
       "      <td>0</td>\n",
       "      <td>0</td>\n",
       "    </tr>\n",
       "    <tr>\n",
       "      <th>6354128</th>\n",
       "      <td>307</td>\n",
       "      <td>CASH_IN</td>\n",
       "      <td>176144.359022</td>\n",
       "      <td>160_2200359_0</td>\n",
       "      <td>3.462348e+04</td>\n",
       "      <td>0.000000e+00</td>\n",
       "      <td>160_548304_0</td>\n",
       "      <td>2.459787e+05</td>\n",
       "      <td>6.965321e+04</td>\n",
       "      <td>0</td>\n",
       "      <td>0</td>\n",
       "      <td>0</td>\n",
       "    </tr>\n",
       "    <tr>\n",
       "      <th>6354278</th>\n",
       "      <td>202</td>\n",
       "      <td>PAYMENT</td>\n",
       "      <td>11364.863202</td>\n",
       "      <td>160_118751_0</td>\n",
       "      <td>5.041879e+05</td>\n",
       "      <td>4.928230e+05</td>\n",
       "      <td>160_1032891_0</td>\n",
       "      <td>1.279989e+01</td>\n",
       "      <td>1.792692e+00</td>\n",
       "      <td>0</td>\n",
       "      <td>0</td>\n",
       "      <td>0</td>\n",
       "    </tr>\n",
       "    <tr>\n",
       "      <th>6354352</th>\n",
       "      <td>375</td>\n",
       "      <td>CASH_OUT</td>\n",
       "      <td>232006.275730</td>\n",
       "      <td>160_700990_0</td>\n",
       "      <td>4.173415e+05</td>\n",
       "      <td>1.853353e+05</td>\n",
       "      <td>160_2282859_0</td>\n",
       "      <td>1.561545e+01</td>\n",
       "      <td>2.319881e+05</td>\n",
       "      <td>0</td>\n",
       "      <td>0</td>\n",
       "      <td>0</td>\n",
       "    </tr>\n",
       "  </tbody>\n",
       "</table>\n",
       "<p>9285 rows × 12 columns</p>\n",
       "</div>"
      ],
      "text/plain": [
       "         step      type         amount       nameOrig  oldbalanceOrg  \\\n",
       "91320     182  CASH_OUT  341663.023945  160_1344032_0   4.984074e+05   \n",
       "126261     14  CASH_OUT  164298.380036   160_237567_0   1.308554e+00   \n",
       "126428    225   CASH_IN   29101.172269  160_2806380_0   1.847564e+06   \n",
       "147279    304   PAYMENT    6285.979443  160_3335748_0   1.024174e+00   \n",
       "147294    234   PAYMENT    6467.409576  160_3343801_0   1.072058e+00   \n",
       "...       ...       ...            ...            ...            ...   \n",
       "6353377    17  CASH_OUT  264422.244701   160_372264_0   3.007848e+05   \n",
       "6353826   279   CASH_IN   28076.689375  160_1051649_0   1.043394e+04   \n",
       "6354128   307   CASH_IN  176144.359022  160_2200359_0   3.462348e+04   \n",
       "6354278   202   PAYMENT   11364.863202   160_118751_0   5.041879e+05   \n",
       "6354352   375  CASH_OUT  232006.275730   160_700990_0   4.173415e+05   \n",
       "\n",
       "         newbalanceOrig       nameDest  oldbalanceDest  newbalanceDest  \\\n",
       "91320      1.567444e+05   160_110006_0    1.143683e+06    1.485415e+06   \n",
       "126261     0.000000e+00    160_51472_0    1.850767e+06    1.861776e+06   \n",
       "126428     1.818463e+06   160_184463_0    3.238981e+05    2.948341e+05   \n",
       "147279     0.000000e+00  160_1422771_0    1.340921e+01    2.497994e+00   \n",
       "147294     0.000000e+00  160_1426194_0    7.941932e+00    4.095192e+00   \n",
       "...                 ...            ...             ...             ...   \n",
       "6353377    3.636259e+04    160_77932_0    2.503096e+05    5.149228e+05   \n",
       "6353826    0.000000e+00   160_670958_0    3.023171e+06    2.995209e+06   \n",
       "6354128    0.000000e+00   160_548304_0    2.459787e+05    6.965321e+04   \n",
       "6354278    4.928230e+05  160_1032891_0    1.279989e+01    1.792692e+00   \n",
       "6354352    1.853353e+05  160_2282859_0    1.561545e+01    2.319881e+05   \n",
       "\n",
       "         isFraud  isFlaggedFraud  inforest  \n",
       "91320          0               0         0  \n",
       "126261         0               0         0  \n",
       "126428         0               0         0  \n",
       "147279         0               0         0  \n",
       "147294         0               0         0  \n",
       "...          ...             ...       ...  \n",
       "6353377        0               0         0  \n",
       "6353826        0               0         0  \n",
       "6354128        0               0         0  \n",
       "6354278        0               0         0  \n",
       "6354352        0               0         0  \n",
       "\n",
       "[9285 rows x 12 columns]"
      ]
     },
     "execution_count": 33,
     "metadata": {},
     "output_type": "execute_result"
    }
   ],
   "source": [
    "df[df.nameOrig.duplicated()]"
   ]
  },
  {
   "cell_type": "code",
   "execution_count": 34,
   "id": "197f9c66",
   "metadata": {},
   "outputs": [
    {
     "data": {
      "text/html": [
       "<div>\n",
       "<style scoped>\n",
       "    .dataframe tbody tr th:only-of-type {\n",
       "        vertical-align: middle;\n",
       "    }\n",
       "\n",
       "    .dataframe tbody tr th {\n",
       "        vertical-align: top;\n",
       "    }\n",
       "\n",
       "    .dataframe thead th {\n",
       "        text-align: right;\n",
       "    }\n",
       "</style>\n",
       "<table border=\"1\" class=\"dataframe\">\n",
       "  <thead>\n",
       "    <tr style=\"text-align: right;\">\n",
       "      <th></th>\n",
       "      <th>step</th>\n",
       "      <th>type</th>\n",
       "      <th>amount</th>\n",
       "      <th>nameOrig</th>\n",
       "      <th>oldbalanceOrg</th>\n",
       "      <th>newbalanceOrig</th>\n",
       "      <th>nameDest</th>\n",
       "      <th>oldbalanceDest</th>\n",
       "      <th>newbalanceDest</th>\n",
       "      <th>isFraud</th>\n",
       "      <th>isFlaggedFraud</th>\n",
       "      <th>inforest</th>\n",
       "    </tr>\n",
       "  </thead>\n",
       "  <tbody>\n",
       "    <tr>\n",
       "      <th>1692</th>\n",
       "      <td>10</td>\n",
       "      <td>CASH_OUT</td>\n",
       "      <td>7.507426e+04</td>\n",
       "      <td>160_78985_0</td>\n",
       "      <td>3.848838e-01</td>\n",
       "      <td>0.000000</td>\n",
       "      <td>160_11800_0</td>\n",
       "      <td>1.219229e+06</td>\n",
       "      <td>1.294298e+06</td>\n",
       "      <td>0</td>\n",
       "      <td>0</td>\n",
       "      <td>0</td>\n",
       "    </tr>\n",
       "    <tr>\n",
       "      <th>1746</th>\n",
       "      <td>142</td>\n",
       "      <td>CASH_OUT</td>\n",
       "      <td>9.147815e+04</td>\n",
       "      <td>160_1494086_0</td>\n",
       "      <td>1.513798e-02</td>\n",
       "      <td>0.000000</td>\n",
       "      <td>160_171718_0</td>\n",
       "      <td>2.037957e+05</td>\n",
       "      <td>2.952038e+05</td>\n",
       "      <td>0</td>\n",
       "      <td>0</td>\n",
       "      <td>0</td>\n",
       "    </tr>\n",
       "    <tr>\n",
       "      <th>1779</th>\n",
       "      <td>42</td>\n",
       "      <td>CASH_OUT</td>\n",
       "      <td>8.187598e+04</td>\n",
       "      <td>160_893371_0</td>\n",
       "      <td>2.026938e+00</td>\n",
       "      <td>0.000000</td>\n",
       "      <td>160_262792_0</td>\n",
       "      <td>1.030396e+06</td>\n",
       "      <td>1.112415e+06</td>\n",
       "      <td>0</td>\n",
       "      <td>0</td>\n",
       "      <td>0</td>\n",
       "    </tr>\n",
       "    <tr>\n",
       "      <th>1795</th>\n",
       "      <td>256</td>\n",
       "      <td>CASH_IN</td>\n",
       "      <td>1.193981e+05</td>\n",
       "      <td>160_3423644_0</td>\n",
       "      <td>9.962513e+05</td>\n",
       "      <td>876853.173764</td>\n",
       "      <td>160_1170039_0</td>\n",
       "      <td>1.665517e+06</td>\n",
       "      <td>1.546095e+06</td>\n",
       "      <td>0</td>\n",
       "      <td>0</td>\n",
       "      <td>0</td>\n",
       "    </tr>\n",
       "    <tr>\n",
       "      <th>1899</th>\n",
       "      <td>249</td>\n",
       "      <td>TRANSFER</td>\n",
       "      <td>1.699147e+06</td>\n",
       "      <td>160_3203453_0</td>\n",
       "      <td>1.630619e+00</td>\n",
       "      <td>0.000000</td>\n",
       "      <td>160_343822_0</td>\n",
       "      <td>2.025967e+06</td>\n",
       "      <td>3.724909e+06</td>\n",
       "      <td>0</td>\n",
       "      <td>0</td>\n",
       "      <td>0</td>\n",
       "    </tr>\n",
       "    <tr>\n",
       "      <th>...</th>\n",
       "      <td>...</td>\n",
       "      <td>...</td>\n",
       "      <td>...</td>\n",
       "      <td>...</td>\n",
       "      <td>...</td>\n",
       "      <td>...</td>\n",
       "      <td>...</td>\n",
       "      <td>...</td>\n",
       "      <td>...</td>\n",
       "      <td>...</td>\n",
       "      <td>...</td>\n",
       "      <td>...</td>\n",
       "    </tr>\n",
       "    <tr>\n",
       "      <th>6362378</th>\n",
       "      <td>686</td>\n",
       "      <td>CASH_OUT</td>\n",
       "      <td>1.600987e+05</td>\n",
       "      <td>161_7554_0</td>\n",
       "      <td>1.601087e+05</td>\n",
       "      <td>10.000000</td>\n",
       "      <td>161_3002_0</td>\n",
       "      <td>3.023095e+05</td>\n",
       "      <td>4.578601e+05</td>\n",
       "      <td>1</td>\n",
       "      <td>0</td>\n",
       "      <td>0</td>\n",
       "    </tr>\n",
       "    <tr>\n",
       "      <th>6362550</th>\n",
       "      <td>613</td>\n",
       "      <td>CASH_OUT</td>\n",
       "      <td>4.677204e+04</td>\n",
       "      <td>161_7188_0</td>\n",
       "      <td>4.673604e+04</td>\n",
       "      <td>-36.000000</td>\n",
       "      <td>161_4168_0</td>\n",
       "      <td>4.847519e+03</td>\n",
       "      <td>5.044862e+04</td>\n",
       "      <td>1</td>\n",
       "      <td>0</td>\n",
       "      <td>0</td>\n",
       "    </tr>\n",
       "    <tr>\n",
       "      <th>6362567</th>\n",
       "      <td>88</td>\n",
       "      <td>CASH_OUT</td>\n",
       "      <td>4.022416e+06</td>\n",
       "      <td>161_1063_0</td>\n",
       "      <td>4.022399e+06</td>\n",
       "      <td>-17.000000</td>\n",
       "      <td>161_879_0</td>\n",
       "      <td>4.543801e+06</td>\n",
       "      <td>8.570018e+06</td>\n",
       "      <td>1</td>\n",
       "      <td>0</td>\n",
       "      <td>1</td>\n",
       "    </tr>\n",
       "    <tr>\n",
       "      <th>6362588</th>\n",
       "      <td>443</td>\n",
       "      <td>CASH_OUT</td>\n",
       "      <td>3.487555e+05</td>\n",
       "      <td>161_1991_0</td>\n",
       "      <td>3.486685e+05</td>\n",
       "      <td>-87.000000</td>\n",
       "      <td>161_1979_0</td>\n",
       "      <td>8.178707e+02</td>\n",
       "      <td>3.491913e+05</td>\n",
       "      <td>1</td>\n",
       "      <td>0</td>\n",
       "      <td>0</td>\n",
       "    </tr>\n",
       "    <tr>\n",
       "      <th>6362616</th>\n",
       "      <td>214</td>\n",
       "      <td>CASH_OUT</td>\n",
       "      <td>1.368390e+06</td>\n",
       "      <td>161_2420_0</td>\n",
       "      <td>1.368454e+06</td>\n",
       "      <td>63.000000</td>\n",
       "      <td>161_2408_0</td>\n",
       "      <td>2.589394e+05</td>\n",
       "      <td>1.624944e+06</td>\n",
       "      <td>1</td>\n",
       "      <td>0</td>\n",
       "      <td>0</td>\n",
       "    </tr>\n",
       "  </tbody>\n",
       "</table>\n",
       "<p>3634766 rows × 12 columns</p>\n",
       "</div>"
      ],
      "text/plain": [
       "         step      type        amount       nameOrig  oldbalanceOrg  \\\n",
       "1692       10  CASH_OUT  7.507426e+04    160_78985_0   3.848838e-01   \n",
       "1746      142  CASH_OUT  9.147815e+04  160_1494086_0   1.513798e-02   \n",
       "1779       42  CASH_OUT  8.187598e+04   160_893371_0   2.026938e+00   \n",
       "1795      256   CASH_IN  1.193981e+05  160_3423644_0   9.962513e+05   \n",
       "1899      249  TRANSFER  1.699147e+06  160_3203453_0   1.630619e+00   \n",
       "...       ...       ...           ...            ...            ...   \n",
       "6362378   686  CASH_OUT  1.600987e+05     161_7554_0   1.601087e+05   \n",
       "6362550   613  CASH_OUT  4.677204e+04     161_7188_0   4.673604e+04   \n",
       "6362567    88  CASH_OUT  4.022416e+06     161_1063_0   4.022399e+06   \n",
       "6362588   443  CASH_OUT  3.487555e+05     161_1991_0   3.486685e+05   \n",
       "6362616   214  CASH_OUT  1.368390e+06     161_2420_0   1.368454e+06   \n",
       "\n",
       "         newbalanceOrig       nameDest  oldbalanceDest  newbalanceDest  \\\n",
       "1692           0.000000    160_11800_0    1.219229e+06    1.294298e+06   \n",
       "1746           0.000000   160_171718_0    2.037957e+05    2.952038e+05   \n",
       "1779           0.000000   160_262792_0    1.030396e+06    1.112415e+06   \n",
       "1795      876853.173764  160_1170039_0    1.665517e+06    1.546095e+06   \n",
       "1899           0.000000   160_343822_0    2.025967e+06    3.724909e+06   \n",
       "...                 ...            ...             ...             ...   \n",
       "6362378       10.000000     161_3002_0    3.023095e+05    4.578601e+05   \n",
       "6362550      -36.000000     161_4168_0    4.847519e+03    5.044862e+04   \n",
       "6362567      -17.000000      161_879_0    4.543801e+06    8.570018e+06   \n",
       "6362588      -87.000000     161_1979_0    8.178707e+02    3.491913e+05   \n",
       "6362616       63.000000     161_2408_0    2.589394e+05    1.624944e+06   \n",
       "\n",
       "         isFraud  isFlaggedFraud  inforest  \n",
       "1692           0               0         0  \n",
       "1746           0               0         0  \n",
       "1779           0               0         0  \n",
       "1795           0               0         0  \n",
       "1899           0               0         0  \n",
       "...          ...             ...       ...  \n",
       "6362378        1               0         0  \n",
       "6362550        1               0         0  \n",
       "6362567        1               0         1  \n",
       "6362588        1               0         0  \n",
       "6362616        1               0         0  \n",
       "\n",
       "[3634766 rows x 12 columns]"
      ]
     },
     "execution_count": 34,
     "metadata": {},
     "output_type": "execute_result"
    }
   ],
   "source": [
    "df[df.nameDest.duplicated()]"
   ]
  },
  {
   "cell_type": "code",
   "execution_count": 35,
   "id": "dd8721d1",
   "metadata": {},
   "outputs": [
    {
     "data": {
      "text/html": [
       "<div>\n",
       "<style scoped>\n",
       "    .dataframe tbody tr th:only-of-type {\n",
       "        vertical-align: middle;\n",
       "    }\n",
       "\n",
       "    .dataframe tbody tr th {\n",
       "        vertical-align: top;\n",
       "    }\n",
       "\n",
       "    .dataframe thead th {\n",
       "        text-align: right;\n",
       "    }\n",
       "</style>\n",
       "<table border=\"1\" class=\"dataframe\">\n",
       "  <thead>\n",
       "    <tr style=\"text-align: right;\">\n",
       "      <th></th>\n",
       "      <th>step</th>\n",
       "      <th>type</th>\n",
       "      <th>amount</th>\n",
       "      <th>nameOrig</th>\n",
       "      <th>oldbalanceOrg</th>\n",
       "      <th>newbalanceOrig</th>\n",
       "      <th>nameDest</th>\n",
       "      <th>oldbalanceDest</th>\n",
       "      <th>newbalanceDest</th>\n",
       "      <th>isFraud</th>\n",
       "      <th>isFlaggedFraud</th>\n",
       "      <th>inforest</th>\n",
       "    </tr>\n",
       "  </thead>\n",
       "  <tbody>\n",
       "    <tr>\n",
       "      <th>1</th>\n",
       "      <td>394</td>\n",
       "      <td>CASH_OUT</td>\n",
       "      <td>2.370932e+05</td>\n",
       "      <td>160_5585569_0</td>\n",
       "      <td>3.827075e+05</td>\n",
       "      <td>145614.268230</td>\n",
       "      <td>160_1586945_0</td>\n",
       "      <td>5.870893e+05</td>\n",
       "      <td>8.243203e+05</td>\n",
       "      <td>0</td>\n",
       "      <td>0</td>\n",
       "      <td>0</td>\n",
       "    </tr>\n",
       "    <tr>\n",
       "      <th>4</th>\n",
       "      <td>235</td>\n",
       "      <td>PAYMENT</td>\n",
       "      <td>7.866992e+03</td>\n",
       "      <td>160_5544127_0</td>\n",
       "      <td>7.463233e+04</td>\n",
       "      <td>66765.333988</td>\n",
       "      <td>160_2370260_0</td>\n",
       "      <td>5.390545e+00</td>\n",
       "      <td>9.820910e+00</td>\n",
       "      <td>0</td>\n",
       "      <td>0</td>\n",
       "      <td>0</td>\n",
       "    </tr>\n",
       "    <tr>\n",
       "      <th>5</th>\n",
       "      <td>493</td>\n",
       "      <td>CASH_OUT</td>\n",
       "      <td>2.814038e+05</td>\n",
       "      <td>160_6037426_0</td>\n",
       "      <td>4.223592e+04</td>\n",
       "      <td>0.000000</td>\n",
       "      <td>160_2092767_0</td>\n",
       "      <td>5.880235e+05</td>\n",
       "      <td>8.693219e+05</td>\n",
       "      <td>0</td>\n",
       "      <td>0</td>\n",
       "      <td>0</td>\n",
       "    </tr>\n",
       "    <tr>\n",
       "      <th>6</th>\n",
       "      <td>18</td>\n",
       "      <td>PAYMENT</td>\n",
       "      <td>4.355986e+03</td>\n",
       "      <td>160_400626_0</td>\n",
       "      <td>5.616003e+04</td>\n",
       "      <td>51804.048066</td>\n",
       "      <td>160_175474_0</td>\n",
       "      <td>8.496485e+00</td>\n",
       "      <td>1.078249e+01</td>\n",
       "      <td>0</td>\n",
       "      <td>0</td>\n",
       "      <td>0</td>\n",
       "    </tr>\n",
       "    <tr>\n",
       "      <th>7</th>\n",
       "      <td>550</td>\n",
       "      <td>CASH_IN</td>\n",
       "      <td>1.020792e+05</td>\n",
       "      <td>160_6146482_0</td>\n",
       "      <td>1.578172e+04</td>\n",
       "      <td>0.000000</td>\n",
       "      <td>160_354507_0</td>\n",
       "      <td>4.064748e+06</td>\n",
       "      <td>3.962757e+06</td>\n",
       "      <td>0</td>\n",
       "      <td>0</td>\n",
       "      <td>0</td>\n",
       "    </tr>\n",
       "    <tr>\n",
       "      <th>...</th>\n",
       "      <td>...</td>\n",
       "      <td>...</td>\n",
       "      <td>...</td>\n",
       "      <td>...</td>\n",
       "      <td>...</td>\n",
       "      <td>...</td>\n",
       "      <td>...</td>\n",
       "      <td>...</td>\n",
       "      <td>...</td>\n",
       "      <td>...</td>\n",
       "      <td>...</td>\n",
       "      <td>...</td>\n",
       "    </tr>\n",
       "    <tr>\n",
       "      <th>6362615</th>\n",
       "      <td>483</td>\n",
       "      <td>CASH_OUT</td>\n",
       "      <td>2.298273e+04</td>\n",
       "      <td>161_5384_0</td>\n",
       "      <td>2.298173e+04</td>\n",
       "      <td>-1.000000</td>\n",
       "      <td>161_5356_0</td>\n",
       "      <td>3.279893e+06</td>\n",
       "      <td>3.304007e+06</td>\n",
       "      <td>1</td>\n",
       "      <td>0</td>\n",
       "      <td>0</td>\n",
       "    </tr>\n",
       "    <tr>\n",
       "      <th>6362616</th>\n",
       "      <td>214</td>\n",
       "      <td>CASH_OUT</td>\n",
       "      <td>1.368390e+06</td>\n",
       "      <td>161_2420_0</td>\n",
       "      <td>1.368454e+06</td>\n",
       "      <td>63.000000</td>\n",
       "      <td>161_2408_0</td>\n",
       "      <td>2.589394e+05</td>\n",
       "      <td>1.624944e+06</td>\n",
       "      <td>1</td>\n",
       "      <td>0</td>\n",
       "      <td>0</td>\n",
       "    </tr>\n",
       "    <tr>\n",
       "      <th>6362617</th>\n",
       "      <td>679</td>\n",
       "      <td>CASH_OUT</td>\n",
       "      <td>3.150440e+06</td>\n",
       "      <td>161_7476_0</td>\n",
       "      <td>3.150454e+06</td>\n",
       "      <td>14.000000</td>\n",
       "      <td>161_7437_0</td>\n",
       "      <td>6.372507e+03</td>\n",
       "      <td>3.157667e+06</td>\n",
       "      <td>1</td>\n",
       "      <td>0</td>\n",
       "      <td>1</td>\n",
       "    </tr>\n",
       "    <tr>\n",
       "      <th>6362618</th>\n",
       "      <td>482</td>\n",
       "      <td>CASH_OUT</td>\n",
       "      <td>7.565533e+04</td>\n",
       "      <td>161_5366_0</td>\n",
       "      <td>7.564733e+04</td>\n",
       "      <td>-8.000000</td>\n",
       "      <td>161_5338_0</td>\n",
       "      <td>8.529471e+05</td>\n",
       "      <td>9.285452e+05</td>\n",
       "      <td>1</td>\n",
       "      <td>0</td>\n",
       "      <td>0</td>\n",
       "    </tr>\n",
       "    <tr>\n",
       "      <th>6362619</th>\n",
       "      <td>685</td>\n",
       "      <td>CASH_OUT</td>\n",
       "      <td>4.886421e+06</td>\n",
       "      <td>161_7534_0</td>\n",
       "      <td>4.886450e+06</td>\n",
       "      <td>29.000000</td>\n",
       "      <td>161_7495_0</td>\n",
       "      <td>3.186239e+03</td>\n",
       "      <td>4.886829e+06</td>\n",
       "      <td>1</td>\n",
       "      <td>0</td>\n",
       "      <td>1</td>\n",
       "    </tr>\n",
       "  </tbody>\n",
       "</table>\n",
       "<p>6362615 rows × 12 columns</p>\n",
       "</div>"
      ],
      "text/plain": [
       "         step      type        amount       nameOrig  oldbalanceOrg  \\\n",
       "1         394  CASH_OUT  2.370932e+05  160_5585569_0   3.827075e+05   \n",
       "4         235   PAYMENT  7.866992e+03  160_5544127_0   7.463233e+04   \n",
       "5         493  CASH_OUT  2.814038e+05  160_6037426_0   4.223592e+04   \n",
       "6          18   PAYMENT  4.355986e+03   160_400626_0   5.616003e+04   \n",
       "7         550   CASH_IN  1.020792e+05  160_6146482_0   1.578172e+04   \n",
       "...       ...       ...           ...            ...            ...   \n",
       "6362615   483  CASH_OUT  2.298273e+04     161_5384_0   2.298173e+04   \n",
       "6362616   214  CASH_OUT  1.368390e+06     161_2420_0   1.368454e+06   \n",
       "6362617   679  CASH_OUT  3.150440e+06     161_7476_0   3.150454e+06   \n",
       "6362618   482  CASH_OUT  7.565533e+04     161_5366_0   7.564733e+04   \n",
       "6362619   685  CASH_OUT  4.886421e+06     161_7534_0   4.886450e+06   \n",
       "\n",
       "         newbalanceOrig       nameDest  oldbalanceDest  newbalanceDest  \\\n",
       "1         145614.268230  160_1586945_0    5.870893e+05    8.243203e+05   \n",
       "4          66765.333988  160_2370260_0    5.390545e+00    9.820910e+00   \n",
       "5              0.000000  160_2092767_0    5.880235e+05    8.693219e+05   \n",
       "6          51804.048066   160_175474_0    8.496485e+00    1.078249e+01   \n",
       "7              0.000000   160_354507_0    4.064748e+06    3.962757e+06   \n",
       "...                 ...            ...             ...             ...   \n",
       "6362615       -1.000000     161_5356_0    3.279893e+06    3.304007e+06   \n",
       "6362616       63.000000     161_2408_0    2.589394e+05    1.624944e+06   \n",
       "6362617       14.000000     161_7437_0    6.372507e+03    3.157667e+06   \n",
       "6362618       -8.000000     161_5338_0    8.529471e+05    9.285452e+05   \n",
       "6362619       29.000000     161_7495_0    3.186239e+03    4.886829e+06   \n",
       "\n",
       "         isFraud  isFlaggedFraud  inforest  \n",
       "1              0               0         0  \n",
       "4              0               0         0  \n",
       "5              0               0         0  \n",
       "6              0               0         0  \n",
       "7              0               0         0  \n",
       "...          ...             ...       ...  \n",
       "6362615        1               0         0  \n",
       "6362616        1               0         0  \n",
       "6362617        1               0         1  \n",
       "6362618        1               0         0  \n",
       "6362619        1               0         1  \n",
       "\n",
       "[6362615 rows x 12 columns]"
      ]
     },
     "execution_count": 35,
     "metadata": {},
     "output_type": "execute_result"
    }
   ],
   "source": [
    "df[df.type.duplicated()]"
   ]
  },
  {
   "cell_type": "code",
   "execution_count": 37,
   "id": "229a74d2",
   "metadata": {},
   "outputs": [],
   "source": [
    "#encoding data\n",
    "from sklearn.preprocessing import LabelEncoder,OneHotEncoder\n",
    "le=LabelEncoder()\n",
    "dfc['type']=le.fit_transform(df.type)\n",
    "\n",
    "dfc['nameDest']=le.fit_transform(df.nameDest)\n",
    "\n",
    "dfc['nameOrig']=le.fit_transform(df.nameOrig)"
   ]
  },
  {
   "cell_type": "code",
   "execution_count": 38,
   "id": "074fd0a4",
   "metadata": {},
   "outputs": [
    {
     "data": {
      "text/plain": [
       "array([1, 0, 3, 4, 2])"
      ]
     },
     "execution_count": 38,
     "metadata": {},
     "output_type": "execute_result"
    }
   ],
   "source": [
    "dfc.type.unique()"
   ]
  },
  {
   "cell_type": "code",
   "execution_count": 39,
   "id": "f881124d",
   "metadata": {},
   "outputs": [
    {
     "data": {
      "text/plain": [
       "array([2610310,  652158,  779800, ..., 2726836, 2724504, 2726900])"
      ]
     },
     "execution_count": 39,
     "metadata": {},
     "output_type": "execute_result"
    }
   ],
   "source": [
    "dfc.nameDest.unique()"
   ]
  },
  {
   "cell_type": "code",
   "execution_count": 40,
   "id": "3f5e126f",
   "metadata": {},
   "outputs": [
    {
     "data": {
      "text/plain": [
       "array([1885159, 5095073, 3579301, ..., 6352316, 6349972, 6352381])"
      ]
     },
     "execution_count": 40,
     "metadata": {},
     "output_type": "execute_result"
    }
   ],
   "source": [
    "dfc.nameOrig.unique()"
   ]
  },
  {
   "cell_type": "code",
   "execution_count": 47,
   "id": "ee5f2548",
   "metadata": {},
   "outputs": [
    {
     "data": {
      "text/plain": [
       "RandomForestClassifier(random_state=42)"
      ]
     },
     "execution_count": 47,
     "metadata": {},
     "output_type": "execute_result"
    }
   ],
   "source": [
    "from sklearn.ensemble import RandomForestClassifier\n",
    "\n",
    "dfc['anomaly']=0\n",
    "model_rf = RandomForestClassifier(n_estimators=100, random_state=42)\n",
    "model_rf.fit(dfc[['nameOrig','nameDest','type']], dfc['anomaly'])"
   ]
  },
  {
   "cell_type": "code",
   "execution_count": 48,
   "id": "e777cd12",
   "metadata": {},
   "outputs": [
    {
     "name": "stdout",
     "output_type": "stream",
     "text": [
      "0    6362620\n",
      "Name: is_duplicate, dtype: int64\n"
     ]
    }
   ],
   "source": [
    "df['is_duplicate'] = model_rf.predict(dfc[['nameOrig','nameDest','type']])\n",
    "print(df['is_duplicate'].value_counts())"
   ]
  },
  {
   "cell_type": "code",
   "execution_count": null,
   "id": "07006035",
   "metadata": {},
   "outputs": [],
   "source": []
  }
 ],
 "metadata": {
  "kernelspec": {
   "display_name": "Python 3 (ipykernel)",
   "language": "python",
   "name": "python3"
  },
  "language_info": {
   "codemirror_mode": {
    "name": "ipython",
    "version": 3
   },
   "file_extension": ".py",
   "mimetype": "text/x-python",
   "name": "python",
   "nbconvert_exporter": "python",
   "pygments_lexer": "ipython3",
   "version": "3.9.13"
  }
 },
 "nbformat": 4,
 "nbformat_minor": 5
}
